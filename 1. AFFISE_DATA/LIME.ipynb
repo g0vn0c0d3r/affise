{
 "cells": [
  {
   "cell_type": "code",
   "execution_count": 1,
   "metadata": {},
   "outputs": [],
   "source": [
    "from basic_stats import *\n",
    "import datetime\n",
    "import warnings\n",
    "warnings.filterwarnings('ignore')"
   ]
  },
  {
   "cell_type": "code",
   "execution_count": 2,
   "metadata": {},
   "outputs": [],
   "source": [
    "date_from = '2022-01-01'\n",
    "date_to = '2022-01-05'\n",
    "# date_to = str(datetime.date.today())"
   ]
  },
  {
   "cell_type": "code",
   "execution_count": 3,
   "metadata": {},
   "outputs": [],
   "source": [
    "# single_api_conv_request(advertiser=LIME_ADV_ID, date_from=date_from, date_to=date_to)"
   ]
  },
  {
   "cell_type": "code",
   "execution_count": 4,
   "metadata": {
    "pycharm": {
     "name": "#%%\n"
    }
   },
   "outputs": [],
   "source": [
    "# lime_stats = get_conversions_dataframe(advertiser=LIME,  aff='29',  web='149714',  \n",
    "#                                        date_from=date_from,  date_to=date_to)"
   ]
  },
  {
   "cell_type": "code",
   "execution_count": 5,
   "metadata": {
    "pycharm": {
     "name": "#%%\n"
    }
   },
   "outputs": [
    {
     "data": {
      "text/html": [
       "<div>\n",
       "<style scoped>\n",
       "    .dataframe tbody tr th:only-of-type {\n",
       "        vertical-align: middle;\n",
       "    }\n",
       "\n",
       "    .dataframe tbody tr th {\n",
       "        vertical-align: top;\n",
       "    }\n",
       "\n",
       "    .dataframe thead th {\n",
       "        text-align: right;\n",
       "    }\n",
       "</style>\n",
       "<table border=\"1\" class=\"dataframe\">\n",
       "  <thead>\n",
       "    <tr style=\"text-align: right;\">\n",
       "      <th>loan_category</th>\n",
       "      <th>reg</th>\n",
       "      <th>new</th>\n",
       "      <th>rep</th>\n",
       "      <th>costs_new</th>\n",
       "      <th>costs_rep</th>\n",
       "      <th>costs_total</th>\n",
       "    </tr>\n",
       "    <tr>\n",
       "      <th>date</th>\n",
       "      <th></th>\n",
       "      <th></th>\n",
       "      <th></th>\n",
       "      <th></th>\n",
       "      <th></th>\n",
       "      <th></th>\n",
       "    </tr>\n",
       "  </thead>\n",
       "  <tbody>\n",
       "    <tr>\n",
       "      <th>2022-01-01</th>\n",
       "      <td>229</td>\n",
       "      <td>49</td>\n",
       "      <td>19</td>\n",
       "      <td>189500</td>\n",
       "      <td>9500</td>\n",
       "      <td>199000</td>\n",
       "    </tr>\n",
       "    <tr>\n",
       "      <th>2022-01-02</th>\n",
       "      <td>385</td>\n",
       "      <td>68</td>\n",
       "      <td>32</td>\n",
       "      <td>268000</td>\n",
       "      <td>16000</td>\n",
       "      <td>284000</td>\n",
       "    </tr>\n",
       "    <tr>\n",
       "      <th>2022-01-03</th>\n",
       "      <td>458</td>\n",
       "      <td>96</td>\n",
       "      <td>45</td>\n",
       "      <td>382000</td>\n",
       "      <td>22500</td>\n",
       "      <td>404500</td>\n",
       "    </tr>\n",
       "    <tr>\n",
       "      <th>2022-01-04</th>\n",
       "      <td>493</td>\n",
       "      <td>102</td>\n",
       "      <td>43</td>\n",
       "      <td>404800</td>\n",
       "      <td>21500</td>\n",
       "      <td>426300</td>\n",
       "    </tr>\n",
       "    <tr>\n",
       "      <th>2022-01-05</th>\n",
       "      <td>589</td>\n",
       "      <td>121</td>\n",
       "      <td>41</td>\n",
       "      <td>474300</td>\n",
       "      <td>20500</td>\n",
       "      <td>494800</td>\n",
       "    </tr>\n",
       "  </tbody>\n",
       "</table>\n",
       "</div>"
      ],
      "text/plain": [
       "loan_category  reg  new  rep  costs_new  costs_rep  costs_total\n",
       "date                                                           \n",
       "2022-01-01     229   49   19     189500       9500       199000\n",
       "2022-01-02     385   68   32     268000      16000       284000\n",
       "2022-01-03     458   96   45     382000      22500       404500\n",
       "2022-01-04     493  102   43     404800      21500       426300\n",
       "2022-01-05     589  121   41     474300      20500       494800"
      ]
     },
     "execution_count": 5,
     "metadata": {},
     "output_type": "execute_result"
    }
   ],
   "source": [
    "ddt = get_dynamic_report(advertiser=LIME,  aff='29',  web='0', date_from=date_from,  date_to=date_to, index='date')\n",
    "ddt"
   ]
  },
  {
   "cell_type": "code",
   "execution_count": 6,
   "metadata": {},
   "outputs": [
    {
     "data": {
      "text/html": [
       "<div>\n",
       "<style scoped>\n",
       "    .dataframe tbody tr th:only-of-type {\n",
       "        vertical-align: middle;\n",
       "    }\n",
       "\n",
       "    .dataframe tbody tr th {\n",
       "        vertical-align: top;\n",
       "    }\n",
       "\n",
       "    .dataframe thead th {\n",
       "        text-align: right;\n",
       "    }\n",
       "</style>\n",
       "<table border=\"1\" class=\"dataframe\">\n",
       "  <thead>\n",
       "    <tr style=\"text-align: right;\">\n",
       "      <th>loan_category</th>\n",
       "      <th>reg</th>\n",
       "      <th>new</th>\n",
       "      <th>rep</th>\n",
       "      <th>costs_new</th>\n",
       "      <th>costs_rep</th>\n",
       "      <th>costs_total</th>\n",
       "    </tr>\n",
       "    <tr>\n",
       "      <th>week</th>\n",
       "      <th></th>\n",
       "      <th></th>\n",
       "      <th></th>\n",
       "      <th></th>\n",
       "      <th></th>\n",
       "      <th></th>\n",
       "    </tr>\n",
       "  </thead>\n",
       "  <tbody>\n",
       "    <tr>\n",
       "      <th>1</th>\n",
       "      <td>1540</td>\n",
       "      <td>319</td>\n",
       "      <td>129</td>\n",
       "      <td>1261100</td>\n",
       "      <td>64500</td>\n",
       "      <td>1325600</td>\n",
       "    </tr>\n",
       "    <tr>\n",
       "      <th>52</th>\n",
       "      <td>614</td>\n",
       "      <td>117</td>\n",
       "      <td>51</td>\n",
       "      <td>457500</td>\n",
       "      <td>25500</td>\n",
       "      <td>483000</td>\n",
       "    </tr>\n",
       "  </tbody>\n",
       "</table>\n",
       "</div>"
      ],
      "text/plain": [
       "loan_category   reg  new  rep  costs_new  costs_rep  costs_total\n",
       "week                                                            \n",
       "1              1540  319  129    1261100      64500      1325600\n",
       "52              614  117   51     457500      25500       483000"
      ]
     },
     "execution_count": 6,
     "metadata": {},
     "output_type": "execute_result"
    }
   ],
   "source": [
    "ddt = get_dynamic_report(advertiser=LIME,  aff='29',  web='0', date_from=date_from,  date_to=date_to, index='week')\n",
    "ddt"
   ]
  },
  {
   "cell_type": "code",
   "execution_count": 7,
   "metadata": {},
   "outputs": [
    {
     "data": {
      "text/html": [
       "<div>\n",
       "<style scoped>\n",
       "    .dataframe tbody tr th:only-of-type {\n",
       "        vertical-align: middle;\n",
       "    }\n",
       "\n",
       "    .dataframe tbody tr th {\n",
       "        vertical-align: top;\n",
       "    }\n",
       "\n",
       "    .dataframe thead th {\n",
       "        text-align: right;\n",
       "    }\n",
       "</style>\n",
       "<table border=\"1\" class=\"dataframe\">\n",
       "  <thead>\n",
       "    <tr style=\"text-align: right;\">\n",
       "      <th>loan_category</th>\n",
       "      <th>reg</th>\n",
       "      <th>new</th>\n",
       "      <th>rep</th>\n",
       "      <th>costs_new</th>\n",
       "      <th>costs_rep</th>\n",
       "      <th>costs_total</th>\n",
       "    </tr>\n",
       "    <tr>\n",
       "      <th>month</th>\n",
       "      <th></th>\n",
       "      <th></th>\n",
       "      <th></th>\n",
       "      <th></th>\n",
       "      <th></th>\n",
       "      <th></th>\n",
       "    </tr>\n",
       "  </thead>\n",
       "  <tbody>\n",
       "    <tr>\n",
       "      <th>1</th>\n",
       "      <td>2154</td>\n",
       "      <td>436</td>\n",
       "      <td>180</td>\n",
       "      <td>1718600</td>\n",
       "      <td>90000</td>\n",
       "      <td>1808600</td>\n",
       "    </tr>\n",
       "  </tbody>\n",
       "</table>\n",
       "</div>"
      ],
      "text/plain": [
       "loan_category   reg  new  rep  costs_new  costs_rep  costs_total\n",
       "month                                                           \n",
       "1              2154  436  180    1718600      90000      1808600"
      ]
     },
     "execution_count": 7,
     "metadata": {},
     "output_type": "execute_result"
    }
   ],
   "source": [
    "ddt = get_dynamic_report(advertiser=LIME,  aff='29',  web='0', date_from=date_from,  date_to=date_to, index='month')\n",
    "ddt"
   ]
  }
 ],
 "metadata": {
  "kernelspec": {
   "display_name": "Python 3 (ipykernel)",
   "language": "python",
   "name": "python3"
  },
  "language_info": {
   "codemirror_mode": {
    "name": "ipython",
    "version": 3
   },
   "file_extension": ".py",
   "mimetype": "text/x-python",
   "name": "python",
   "nbconvert_exporter": "python",
   "pygments_lexer": "ipython3",
   "version": "3.9.9"
  }
 },
 "nbformat": 4,
 "nbformat_minor": 1
}