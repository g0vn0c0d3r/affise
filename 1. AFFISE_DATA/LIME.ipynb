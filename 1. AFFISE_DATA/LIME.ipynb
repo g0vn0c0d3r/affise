{
 "cells": [
  {
   "cell_type": "code",
   "execution_count": 1,
   "metadata": {},
   "outputs": [],
   "source": [
    "from basic_stats import *\n",
    "import datetime"
   ]
  },
  {
   "cell_type": "code",
   "execution_count": 2,
   "metadata": {},
   "outputs": [],
   "source": [
    "date_from = '2022-01-01'\n",
    "date_to = '2022-01-03'\n",
    "# date_to = str(datetime.date.today())"
   ]
  },
  {
   "cell_type": "code",
   "execution_count": 3,
   "metadata": {},
   "outputs": [],
   "source": [
    "# single_api_conv_request(advertiser=LIME_ADV_ID, date_from=date_from, date_to=date_to)"
   ]
  },
  {
   "cell_type": "code",
   "execution_count": 4,
   "metadata": {
    "pycharm": {
     "name": "#%%\n"
    }
   },
   "outputs": [],
   "source": [
    "# lime_stats = get_conversions_dataframe(advertiser=LIME,  aff='29',  web='149714',  \n",
    "#                                        date_from=date_from,  date_to=date_to)"
   ]
  },
  {
   "cell_type": "code",
   "execution_count": 5,
   "metadata": {
    "pycharm": {
     "name": "#%%\n"
    }
   },
   "outputs": [],
   "source": [
    "ddt = get_conversions_df(advertiser=LIME,  aff='0',  web='0', date_from=date_from,  date_to=date_to)"
   ]
  },
  {
   "cell_type": "code",
   "execution_count": 7,
   "metadata": {},
   "outputs": [
    {
     "data": {
      "text/plain": "           date action_id                  click_id     status  offer_id  \\\n0    2022-01-03   5943270  61d35e38190e9c00019aa940    pending        16   \n1    2022-01-03   5947862  61d3605d190e9c00019aaa34    pending        16   \n2    2022-01-03   5947863  61d35fdb190e9c00019aa9fd    pending        16   \n3    2022-01-03   5947775  61d35441190e9c00019aa52e    pending        16   \n4    2022-01-03   5861851  61b64e7d190e9c0001faaa46  confirmed        16   \n...         ...       ...                       ...        ...       ...   \n6113 2022-01-01   5939290  61cf6993190e9c0001990709    pending        16   \n6114 2022-01-01   5939294  61cf6a0e190e9c0001990718    pending        16   \n6115 2022-01-01   5939301  61cf6bca190e9c0001990764    pending        16   \n6116 2022-01-01   5939298  61cf6af1190e9c000199073e    pending        16   \n6117 2022-01-01   5939297  61cf69ce190e9c000199070f    pending        16   \n\n               goal  payouts      partner partner_id          referrer  \\\n0      registration        0        LEADS         29                     \n1      registration        0         GURU         34                     \n2      registration        0        LEADS         29                     \n3      registration        0  CLICK2MONEY         82    e-finmarket.ru   \n4     repeated_loan      500  CLICK2MONEY         82    vozmykredit.ru   \n...             ...      ...          ...        ...               ...   \n6113   registration        0        BANKI         13      www.banki.ru   \n6114   registration        0        LEADS         29       away.vk.com   \n6115   registration        0    LEADSTECH          3  off.creditcat.ru   \n6116   registration        0        BANKI         13      www.banki.ru   \n6117   registration        0        BANKI         13      www.banki.ru   \n\n                                  sub1                              sub2  \\\n0     4b58ad5fc10d6153e43d321c79b9b86a                                     \n1     3e5fdadaaee8b549a3f90a4d35f14992                                     \n2     0a4a0558cd836328a3268cc550a62e91                                     \n3                                       36pokdty9r4ro28hx3zjukoiy9lv9qao   \n4                                       msnaiwj0j65a6t7mal7jzbhhz7be9dxx   \n...                                ...                               ...   \n6113    1022a8653d08f7a9c89a2477dc9a1e                                     \n6114  ebe076b9778a2d72df6e8680cafc0764                                     \n6115  6522926950f5482c9da95eaa66c53b8a                                     \n6116    10255cf81e8cdd0f2eac13b75379bb                                     \n6117    10293524ad5860f59f8594f601f448                                     \n\n        sub3 loan_category                                               week  \\\n0     134951           reg  <bound method PandasDelegate._add_delegate_acc...   \n1        666           reg  <bound method PandasDelegate._add_delegate_acc...   \n2      48687           reg  <bound method PandasDelegate._add_delegate_acc...   \n3       5647           reg  <bound method PandasDelegate._add_delegate_acc...   \n4        174           rep  <bound method PandasDelegate._add_delegate_acc...   \n...      ...           ...                                                ...   \n6113                   reg  <bound method PandasDelegate._add_delegate_acc...   \n6114  129922           reg  <bound method PandasDelegate._add_delegate_acc...   \n6115       9           reg  <bound method PandasDelegate._add_delegate_acc...   \n6116                   reg  <bound method PandasDelegate._add_delegate_acc...   \n6117                   reg  <bound method PandasDelegate._add_delegate_acc...   \n\n      month  year  \n0         1  2022  \n1         1  2022  \n2         1  2022  \n3         1  2022  \n4         1  2022  \n...     ...   ...  \n6113      1  2022  \n6114      1  2022  \n6115      1  2022  \n6116      1  2022  \n6117      1  2022  \n\n[6118 rows x 17 columns]",
      "text/html": "<div>\n<style scoped>\n    .dataframe tbody tr th:only-of-type {\n        vertical-align: middle;\n    }\n\n    .dataframe tbody tr th {\n        vertical-align: top;\n    }\n\n    .dataframe thead th {\n        text-align: right;\n    }\n</style>\n<table border=\"1\" class=\"dataframe\">\n  <thead>\n    <tr style=\"text-align: right;\">\n      <th></th>\n      <th>date</th>\n      <th>action_id</th>\n      <th>click_id</th>\n      <th>status</th>\n      <th>offer_id</th>\n      <th>goal</th>\n      <th>payouts</th>\n      <th>partner</th>\n      <th>partner_id</th>\n      <th>referrer</th>\n      <th>sub1</th>\n      <th>sub2</th>\n      <th>sub3</th>\n      <th>loan_category</th>\n      <th>week</th>\n      <th>month</th>\n      <th>year</th>\n    </tr>\n  </thead>\n  <tbody>\n    <tr>\n      <th>0</th>\n      <td>2022-01-03</td>\n      <td>5943270</td>\n      <td>61d35e38190e9c00019aa940</td>\n      <td>pending</td>\n      <td>16</td>\n      <td>registration</td>\n      <td>0</td>\n      <td>LEADS</td>\n      <td>29</td>\n      <td></td>\n      <td>4b58ad5fc10d6153e43d321c79b9b86a</td>\n      <td></td>\n      <td>134951</td>\n      <td>reg</td>\n      <td>&lt;bound method PandasDelegate._add_delegate_acc...</td>\n      <td>1</td>\n      <td>2022</td>\n    </tr>\n    <tr>\n      <th>1</th>\n      <td>2022-01-03</td>\n      <td>5947862</td>\n      <td>61d3605d190e9c00019aaa34</td>\n      <td>pending</td>\n      <td>16</td>\n      <td>registration</td>\n      <td>0</td>\n      <td>GURU</td>\n      <td>34</td>\n      <td></td>\n      <td>3e5fdadaaee8b549a3f90a4d35f14992</td>\n      <td></td>\n      <td>666</td>\n      <td>reg</td>\n      <td>&lt;bound method PandasDelegate._add_delegate_acc...</td>\n      <td>1</td>\n      <td>2022</td>\n    </tr>\n    <tr>\n      <th>2</th>\n      <td>2022-01-03</td>\n      <td>5947863</td>\n      <td>61d35fdb190e9c00019aa9fd</td>\n      <td>pending</td>\n      <td>16</td>\n      <td>registration</td>\n      <td>0</td>\n      <td>LEADS</td>\n      <td>29</td>\n      <td></td>\n      <td>0a4a0558cd836328a3268cc550a62e91</td>\n      <td></td>\n      <td>48687</td>\n      <td>reg</td>\n      <td>&lt;bound method PandasDelegate._add_delegate_acc...</td>\n      <td>1</td>\n      <td>2022</td>\n    </tr>\n    <tr>\n      <th>3</th>\n      <td>2022-01-03</td>\n      <td>5947775</td>\n      <td>61d35441190e9c00019aa52e</td>\n      <td>pending</td>\n      <td>16</td>\n      <td>registration</td>\n      <td>0</td>\n      <td>CLICK2MONEY</td>\n      <td>82</td>\n      <td>e-finmarket.ru</td>\n      <td></td>\n      <td>36pokdty9r4ro28hx3zjukoiy9lv9qao</td>\n      <td>5647</td>\n      <td>reg</td>\n      <td>&lt;bound method PandasDelegate._add_delegate_acc...</td>\n      <td>1</td>\n      <td>2022</td>\n    </tr>\n    <tr>\n      <th>4</th>\n      <td>2022-01-03</td>\n      <td>5861851</td>\n      <td>61b64e7d190e9c0001faaa46</td>\n      <td>confirmed</td>\n      <td>16</td>\n      <td>repeated_loan</td>\n      <td>500</td>\n      <td>CLICK2MONEY</td>\n      <td>82</td>\n      <td>vozmykredit.ru</td>\n      <td></td>\n      <td>msnaiwj0j65a6t7mal7jzbhhz7be9dxx</td>\n      <td>174</td>\n      <td>rep</td>\n      <td>&lt;bound method PandasDelegate._add_delegate_acc...</td>\n      <td>1</td>\n      <td>2022</td>\n    </tr>\n    <tr>\n      <th>...</th>\n      <td>...</td>\n      <td>...</td>\n      <td>...</td>\n      <td>...</td>\n      <td>...</td>\n      <td>...</td>\n      <td>...</td>\n      <td>...</td>\n      <td>...</td>\n      <td>...</td>\n      <td>...</td>\n      <td>...</td>\n      <td>...</td>\n      <td>...</td>\n      <td>...</td>\n      <td>...</td>\n      <td>...</td>\n    </tr>\n    <tr>\n      <th>6113</th>\n      <td>2022-01-01</td>\n      <td>5939290</td>\n      <td>61cf6993190e9c0001990709</td>\n      <td>pending</td>\n      <td>16</td>\n      <td>registration</td>\n      <td>0</td>\n      <td>BANKI</td>\n      <td>13</td>\n      <td>www.banki.ru</td>\n      <td>1022a8653d08f7a9c89a2477dc9a1e</td>\n      <td></td>\n      <td></td>\n      <td>reg</td>\n      <td>&lt;bound method PandasDelegate._add_delegate_acc...</td>\n      <td>1</td>\n      <td>2022</td>\n    </tr>\n    <tr>\n      <th>6114</th>\n      <td>2022-01-01</td>\n      <td>5939294</td>\n      <td>61cf6a0e190e9c0001990718</td>\n      <td>pending</td>\n      <td>16</td>\n      <td>registration</td>\n      <td>0</td>\n      <td>LEADS</td>\n      <td>29</td>\n      <td>away.vk.com</td>\n      <td>ebe076b9778a2d72df6e8680cafc0764</td>\n      <td></td>\n      <td>129922</td>\n      <td>reg</td>\n      <td>&lt;bound method PandasDelegate._add_delegate_acc...</td>\n      <td>1</td>\n      <td>2022</td>\n    </tr>\n    <tr>\n      <th>6115</th>\n      <td>2022-01-01</td>\n      <td>5939301</td>\n      <td>61cf6bca190e9c0001990764</td>\n      <td>pending</td>\n      <td>16</td>\n      <td>registration</td>\n      <td>0</td>\n      <td>LEADSTECH</td>\n      <td>3</td>\n      <td>off.creditcat.ru</td>\n      <td>6522926950f5482c9da95eaa66c53b8a</td>\n      <td></td>\n      <td>9</td>\n      <td>reg</td>\n      <td>&lt;bound method PandasDelegate._add_delegate_acc...</td>\n      <td>1</td>\n      <td>2022</td>\n    </tr>\n    <tr>\n      <th>6116</th>\n      <td>2022-01-01</td>\n      <td>5939298</td>\n      <td>61cf6af1190e9c000199073e</td>\n      <td>pending</td>\n      <td>16</td>\n      <td>registration</td>\n      <td>0</td>\n      <td>BANKI</td>\n      <td>13</td>\n      <td>www.banki.ru</td>\n      <td>10255cf81e8cdd0f2eac13b75379bb</td>\n      <td></td>\n      <td></td>\n      <td>reg</td>\n      <td>&lt;bound method PandasDelegate._add_delegate_acc...</td>\n      <td>1</td>\n      <td>2022</td>\n    </tr>\n    <tr>\n      <th>6117</th>\n      <td>2022-01-01</td>\n      <td>5939297</td>\n      <td>61cf69ce190e9c000199070f</td>\n      <td>pending</td>\n      <td>16</td>\n      <td>registration</td>\n      <td>0</td>\n      <td>BANKI</td>\n      <td>13</td>\n      <td>www.banki.ru</td>\n      <td>10293524ad5860f59f8594f601f448</td>\n      <td></td>\n      <td></td>\n      <td>reg</td>\n      <td>&lt;bound method PandasDelegate._add_delegate_acc...</td>\n      <td>1</td>\n      <td>2022</td>\n    </tr>\n  </tbody>\n</table>\n<p>6118 rows × 17 columns</p>\n</div>"
     },
     "execution_count": 7,
     "metadata": {},
     "output_type": "execute_result"
    }
   ],
   "source": [
    "ddt"
   ]
  },
  {
   "cell_type": "code",
   "execution_count": 6,
   "metadata": {},
   "outputs": [],
   "source": []
  }
 ],
 "metadata": {
  "kernelspec": {
   "display_name": "Python 3 (ipykernel)",
   "language": "python",
   "name": "python3"
  },
  "language_info": {
   "codemirror_mode": {
    "name": "ipython",
    "version": 3
   },
   "file_extension": ".py",
   "mimetype": "text/x-python",
   "name": "python",
   "nbconvert_exporter": "python",
   "pygments_lexer": "ipython3",
   "version": "3.9.9"
  }
 },
 "nbformat": 4,
 "nbformat_minor": 1
}