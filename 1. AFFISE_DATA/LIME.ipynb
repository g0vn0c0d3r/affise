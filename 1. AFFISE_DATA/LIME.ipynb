{
 "cells": [
  {
   "cell_type": "code",
   "execution_count": 1,
   "metadata": {},
   "outputs": [],
   "source": [
    "from basic_stats import *\n",
    "import datetime\n",
    "import warnings\n",
    "warnings.filterwarnings('ignore')"
   ]
  },
  {
   "cell_type": "code",
   "execution_count": 2,
   "metadata": {},
   "outputs": [],
   "source": [
    "date_from = '2022-01-01'\n",
    "# date_to = '2022-01-05'\n",
    "date_to = str(datetime.date.today())"
   ]
  },
  {
   "cell_type": "code",
   "execution_count": 3,
   "metadata": {},
   "outputs": [],
   "source": [
    "# single_api_conv_request(advertiser=LIME_ADV_ID, date_from=date_from, date_to=date_to)"
   ]
  },
  {
   "cell_type": "code",
   "execution_count": 4,
   "metadata": {
    "pycharm": {
     "name": "#%%\n"
    }
   },
   "outputs": [],
   "source": [
    "# lime_stats = get_conversions_dataframe(advertiser=LIME,  aff='29',  web='149714',  \n",
    "#                                        date_from=date_from,  date_to=date_to)"
   ]
  },
  {
   "cell_type": "code",
   "execution_count": null,
   "metadata": {
    "pycharm": {
     "name": "#%%\n"
    }
   },
   "outputs": [],
   "source": [
    "ddt = get_dynamic_report(advertiser=LIME,  aff='0',  web='0', date_from=date_from,  date_to=date_to, index='date')\n",
    "ddt"
   ]
  },
  {
   "cell_type": "code",
   "execution_count": null,
   "metadata": {},
   "outputs": [],
   "source": [
    "ddt = get_dynamic_report(advertiser=LIME,  aff='0',  web='0', date_from=date_from,  date_to=date_to, index='week')\n",
    "ddt"
   ]
  },
  {
   "cell_type": "code",
   "execution_count": null,
   "metadata": {},
   "outputs": [],
   "source": [
    "ddt = get_dynamic_report(advertiser=LIME,  aff='0',  web='0', date_from=date_from,  date_to=date_to, index='month')\n",
    "ddt"
   ]
  }
 ],
 "metadata": {
  "kernelspec": {
   "display_name": "Python 3 (ipykernel)",
   "language": "python",
   "name": "python3"
  },
  "language_info": {
   "codemirror_mode": {
    "name": "ipython",
    "version": 3
   },
   "file_extension": ".py",
   "mimetype": "text/x-python",
   "name": "python",
   "nbconvert_exporter": "python",
   "pygments_lexer": "ipython3",
   "version": "3.9.9"
  }
 },
 "nbformat": 4,
 "nbformat_minor": 1
}