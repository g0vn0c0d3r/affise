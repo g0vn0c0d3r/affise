{
 "cells": [
  {
   "cell_type": "code",
   "execution_count": 1,
   "metadata": {},
   "outputs": [],
   "source": [
    "from basic_stats import *\n",
    "import datetime\n",
    "import warnings\n",
    "warnings.filterwarnings('ignore')"
   ]
  },
  {
   "cell_type": "code",
   "execution_count": 2,
   "metadata": {},
   "outputs": [],
   "source": [
    "date_from = '2022-01-01'\n",
    "# date_to = '2022-01-05'\n",
    "date_to = str(datetime.date.today())"
   ]
  },
  {
   "cell_type": "code",
   "execution_count": 3,
   "metadata": {},
   "outputs": [],
   "source": [
    "# single_api_conv_request(advertiser=LIME_ADV_ID, date_from=date_from, date_to=date_to)"
   ]
  },
  {
   "cell_type": "code",
   "execution_count": 4,
   "metadata": {
    "pycharm": {
     "name": "#%%\n"
    }
   },
   "outputs": [],
   "source": [
    "# lime_stats = get_conversions_dataframe(advertiser=LIME,  aff='29',  web='149714',  \n",
    "#                                        date_from=date_from,  date_to=date_to)"
   ]
  },
  {
   "cell_type": "code",
   "execution_count": 5,
   "metadata": {
    "pycharm": {
     "name": "#%%\n"
    }
   },
   "outputs": [
    {
     "ename": "KeyError",
     "evalue": "'stats'",
     "output_type": "error",
     "traceback": [
      "\u001B[0;31m---------------------------------------------------------------------------\u001B[0m",
      "\u001B[0;31mKeyError\u001B[0m                                  Traceback (most recent call last)",
      "\u001B[0;32m/var/folders/d_/6kg_s1r949z5r4ysvdqsp9fw0000gn/T/ipykernel_14883/2346472974.py\u001B[0m in \u001B[0;36m<module>\u001B[0;34m\u001B[0m\n\u001B[0;32m----> 1\u001B[0;31m \u001B[0mddt\u001B[0m \u001B[0;34m=\u001B[0m \u001B[0mget_dynamic_report\u001B[0m\u001B[0;34m(\u001B[0m\u001B[0madvertiser\u001B[0m\u001B[0;34m=\u001B[0m\u001B[0mLIME\u001B[0m\u001B[0;34m,\u001B[0m  \u001B[0maff\u001B[0m\u001B[0;34m=\u001B[0m\u001B[0;34m'82'\u001B[0m\u001B[0;34m,\u001B[0m  \u001B[0mweb\u001B[0m\u001B[0;34m=\u001B[0m\u001B[0;34m'2700'\u001B[0m\u001B[0;34m,\u001B[0m \u001B[0mdate_from\u001B[0m\u001B[0;34m=\u001B[0m\u001B[0mdate_from\u001B[0m\u001B[0;34m,\u001B[0m  \u001B[0mdate_to\u001B[0m\u001B[0;34m=\u001B[0m\u001B[0mdate_to\u001B[0m\u001B[0;34m,\u001B[0m \u001B[0mindex\u001B[0m\u001B[0;34m=\u001B[0m\u001B[0;34m'date'\u001B[0m\u001B[0;34m)\u001B[0m\u001B[0;34m\u001B[0m\u001B[0;34m\u001B[0m\u001B[0m\n\u001B[0m\u001B[1;32m      2\u001B[0m \u001B[0mddt\u001B[0m\u001B[0;34m\u001B[0m\u001B[0;34m\u001B[0m\u001B[0m\n",
      "\u001B[0;32m~/PycharmProjects/affise/1. AFFISE_DATA/basic_stats.py\u001B[0m in \u001B[0;36mget_dynamic_report\u001B[0;34m(advertiser, aff, web, date_from, date_to, index)\u001B[0m\n\u001B[1;32m    172\u001B[0m     \u001B[0mconversions_final_df\u001B[0m \u001B[0;34m=\u001B[0m \u001B[0mpd\u001B[0m\u001B[0;34m.\u001B[0m\u001B[0mmerge\u001B[0m\u001B[0;34m(\u001B[0m\u001B[0mpivoted_conversions\u001B[0m\u001B[0;34m,\u001B[0m \u001B[0mpivoted_budget\u001B[0m\u001B[0;34m,\u001B[0m \u001B[0mhow\u001B[0m\u001B[0;34m=\u001B[0m\u001B[0;34m'left'\u001B[0m\u001B[0;34m,\u001B[0m \u001B[0mleft_index\u001B[0m\u001B[0;34m=\u001B[0m\u001B[0;32mTrue\u001B[0m\u001B[0;34m,\u001B[0m \u001B[0mright_index\u001B[0m\u001B[0;34m=\u001B[0m\u001B[0;32mTrue\u001B[0m\u001B[0;34m)\u001B[0m\u001B[0;34m\u001B[0m\u001B[0;34m\u001B[0m\u001B[0m\n\u001B[1;32m    173\u001B[0m \u001B[0;34m\u001B[0m\u001B[0m\n\u001B[0;32m--> 174\u001B[0;31m     \u001B[0mclicks\u001B[0m \u001B[0;34m=\u001B[0m \u001B[0mget_clicks_data\u001B[0m\u001B[0;34m(\u001B[0m\u001B[0madvertiser\u001B[0m\u001B[0;34m=\u001B[0m\u001B[0madvertiser\u001B[0m\u001B[0;34m,\u001B[0m \u001B[0maff\u001B[0m\u001B[0;34m=\u001B[0m\u001B[0maff\u001B[0m\u001B[0;34m,\u001B[0m \u001B[0mweb\u001B[0m\u001B[0;34m=\u001B[0m\u001B[0mweb\u001B[0m\u001B[0;34m,\u001B[0m \u001B[0mdate_from\u001B[0m\u001B[0;34m=\u001B[0m\u001B[0mdate_from\u001B[0m\u001B[0;34m,\u001B[0m \u001B[0mdate_to\u001B[0m\u001B[0;34m=\u001B[0m\u001B[0mdate_to\u001B[0m\u001B[0;34m)\u001B[0m\u001B[0;34m\u001B[0m\u001B[0;34m\u001B[0m\u001B[0m\n\u001B[0m\u001B[1;32m    175\u001B[0m     \u001B[0mclicks\u001B[0m \u001B[0;34m=\u001B[0m \u001B[0mclicks\u001B[0m\u001B[0;34m.\u001B[0m\u001B[0mgroupby\u001B[0m\u001B[0;34m(\u001B[0m\u001B[0mby\u001B[0m\u001B[0;34m=\u001B[0m\u001B[0mindex\u001B[0m\u001B[0;34m)\u001B[0m\u001B[0;34m.\u001B[0m\u001B[0magg\u001B[0m\u001B[0;34m(\u001B[0m\u001B[0;34m{\u001B[0m\u001B[0;34m'clicks'\u001B[0m\u001B[0;34m:\u001B[0m \u001B[0;34m'sum'\u001B[0m\u001B[0;34m}\u001B[0m\u001B[0;34m)\u001B[0m\u001B[0;34m\u001B[0m\u001B[0;34m\u001B[0m\u001B[0m\n\u001B[1;32m    176\u001B[0m \u001B[0;34m\u001B[0m\u001B[0m\n",
      "\u001B[0;32m~/PycharmProjects/affise/1. AFFISE_DATA/basic_stats.py\u001B[0m in \u001B[0;36mget_clicks_data\u001B[0;34m(advertiser, aff, web, date_from, date_to)\u001B[0m\n\u001B[1;32m    137\u001B[0m     \u001B[0mcolumns\u001B[0m \u001B[0;34m=\u001B[0m \u001B[0;34m[\u001B[0m\u001B[0;34m'date'\u001B[0m\u001B[0;34m,\u001B[0m \u001B[0;34m'clicks'\u001B[0m\u001B[0;34m]\u001B[0m\u001B[0;34m\u001B[0m\u001B[0;34m\u001B[0m\u001B[0m\n\u001B[1;32m    138\u001B[0m \u001B[0;34m\u001B[0m\u001B[0m\n\u001B[0;32m--> 139\u001B[0;31m     \u001B[0;32mfor\u001B[0m \u001B[0mitem\u001B[0m \u001B[0;32min\u001B[0m \u001B[0mclicks\u001B[0m\u001B[0;34m[\u001B[0m\u001B[0;34m'stats'\u001B[0m\u001B[0;34m]\u001B[0m\u001B[0;34m:\u001B[0m\u001B[0;34m\u001B[0m\u001B[0;34m\u001B[0m\u001B[0m\n\u001B[0m\u001B[1;32m    140\u001B[0m         \u001B[0mdate\u001B[0m \u001B[0;34m=\u001B[0m \u001B[0;34mf'{item[\"slice\"][\"year\"]}-{item[\"slice\"][\"month\"]}-{item[\"slice\"][\"day\"]}'\u001B[0m\u001B[0;34m\u001B[0m\u001B[0;34m\u001B[0m\u001B[0m\n\u001B[1;32m    141\u001B[0m         \u001B[0mclicks\u001B[0m \u001B[0;34m=\u001B[0m \u001B[0mint\u001B[0m\u001B[0;34m(\u001B[0m\u001B[0mitem\u001B[0m\u001B[0;34m[\u001B[0m\u001B[0;34m'traffic'\u001B[0m\u001B[0;34m]\u001B[0m\u001B[0;34m[\u001B[0m\u001B[0;34m'uniq'\u001B[0m\u001B[0;34m]\u001B[0m\u001B[0;34m)\u001B[0m\u001B[0;34m\u001B[0m\u001B[0;34m\u001B[0m\u001B[0m\n",
      "\u001B[0;31mKeyError\u001B[0m: 'stats'"
     ]
    }
   ],
   "source": [
    "ddt = get_dynamic_report(advertiser=LIME,  aff='82',  web='2700', date_from=date_from,  date_to=date_to, index='date')\n",
    "ddt"
   ]
  },
  {
   "cell_type": "code",
   "execution_count": null,
   "metadata": {},
   "outputs": [],
   "source": [
    "ddt = get_dynamic_report(advertiser=LIME,  aff='0',  web='0', date_from=date_from,  date_to=date_to, index='week')\n",
    "ddt"
   ]
  },
  {
   "cell_type": "code",
   "execution_count": null,
   "metadata": {},
   "outputs": [],
   "source": [
    "ddt = get_dynamic_report(advertiser=LIME,  aff='0',  web='0', date_from=date_from,  date_to=date_to, index='month')\n",
    "ddt"
   ]
  }
 ],
 "metadata": {
  "kernelspec": {
   "display_name": "Python 3 (ipykernel)",
   "language": "python",
   "name": "python3"
  },
  "language_info": {
   "codemirror_mode": {
    "name": "ipython",
    "version": 3
   },
   "file_extension": ".py",
   "mimetype": "text/x-python",
   "name": "python",
   "nbconvert_exporter": "python",
   "pygments_lexer": "ipython3",
   "version": "3.9.9"
  }
 },
 "nbformat": 4,
 "nbformat_minor": 1
}