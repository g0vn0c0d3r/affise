{
 "cells": [
  {
   "cell_type": "code",
   "execution_count": 1,
   "metadata": {},
   "outputs": [],
   "source": [
    "from basic_stats import *\n",
    "import plotly.express as px\n",
    "import datetime\n",
    "import matplotlib.pyplot as plt\n",
    "import warnings\n",
    "from time import time\n",
    "warnings.filterwarnings('ignore')"
   ]
  },
  {
   "cell_type": "markdown",
   "metadata": {},
   "source": [
    "### Укажите параметры для фильтрации данных"
   ]
  },
  {
   "cell_type": "code",
   "execution_count": 2,
   "metadata": {},
   "outputs": [],
   "source": [
    "# START_DATE\n",
    "start = '2021-01-01'\n",
    "\n",
    "# END_DATE\n",
    "end = str(datetime.date.today())\n",
    "# end = '2021-12-31'"
   ]
  },
  {
   "cell_type": "code",
   "execution_count": 3,
   "metadata": {},
   "outputs": [],
   "source": [
    "# PARTNER_ID\n",
    "affiliate = '30'\n",
    "\n",
    "# WEBMASTER_ID\n",
    "web = '0'"
   ]
  },
  {
   "cell_type": "markdown",
   "metadata": {},
   "source": [
    "### Выгрузка данных о конверсиях"
   ]
  },
  {
   "cell_type": "code",
   "execution_count": 4,
   "metadata": {
    "pycharm": {
     "is_executing": true
    },
    "scrolled": false
   },
   "outputs": [
    {
     "data": {
      "text/plain": [
       "'Конверсии выгружены за 194 сек.'"
      ]
     },
     "metadata": {},
     "output_type": "display_data"
    }
   ],
   "source": [
    "start_ts = time()\n",
    "conversions = get_conversions_dataframe(advertiser=LIME, affiliate=affiliate, web=web, date_from=start, date_to=end)\n",
    "end_ts = time()\n",
    "\n",
    "display(f'Конверсии выгружены за {end_ts - start_ts:.0f} сек.')\n",
    "# display(conversions)"
   ]
  },
  {
   "cell_type": "markdown",
   "metadata": {},
   "source": [
    "### Выгрузка данных о кликах"
   ]
  },
  {
   "cell_type": "code",
   "execution_count": 5,
   "metadata": {
    "pycharm": {
     "is_executing": true
    }
   },
   "outputs": [
    {
     "data": {
      "text/plain": [
       "'Клики выгружены за 19 сек.'"
      ]
     },
     "metadata": {},
     "output_type": "display_data"
    }
   ],
   "source": [
    "start_ts = time()\n",
    "clicks = get_clicks_dataframe(advertiser=LIME, affiliate=affiliate, web=web, date_from=start, date_to=end)\n",
    "end_ts = time()\n",
    "\n",
    "display(f'Клики выгружены за {end_ts - start_ts:.0f} сек.')\n",
    "# display(clicks)"
   ]
  },
  {
   "cell_type": "markdown",
   "metadata": {},
   "source": [
    "### Общий отчет с динамикой показателей\n",
    "**index** (datatype - str) отвечает за группировку данных и может принимать значения:\n",
    "* 'date' - по дням\n",
    "* 'week' - по неделям\n",
    "* 'month' - по месяцам\n",
    "* 'year' - по годам\n",
    "\n",
    "Также допускается смешанная группировка вида **index=['year', 'month']**\n",
    "\n",
    "### Важно\n",
    "Для перегруппировки данных не нужно перезапускать весь отчет - достаточно изменить index и запустить ячейку с dynamic_report"
   ]
  },
  {
   "cell_type": "markdown",
   "metadata": {},
   "source": [
    "### Данные, доступные для анализа\n",
    "* **clicks** - кол-во уникальных кликов\n",
    "* **reg** - кол-во регистраций (step4)\n",
    "* **new** - кол-во новых займов\n",
    "* **rep** - кол-во повторных займов\n",
    "* **total** - общее кол-во займов\n",
    "* **CR%** - кэф. конверсии в регистрацию\n",
    "* **AR%** - кэф. конверсии в выдачу (из регистрации)\n",
    "* **RLS%** - доля повторных займов\n",
    "* **payouts** - общая сумма выплат\n",
    "* **EPC** - доход на 1 уникальный клик\n",
    "* **EPL** - доход на 1 регистрацию\n",
    "* **CPAn** - доход на 1 новый выданный заем. Расчитывается по формуле ((payots - rep *500) / new) т.е без учета расходов на повторные выдачи\n",
    "* **CPAr** - доход на 1 новый выданный заем. Расчитывается по формуле payouts / new"
   ]
  },
  {
   "cell_type": "code",
   "execution_count": 6,
   "metadata": {
    "pycharm": {
     "is_executing": true
    }
   },
   "outputs": [
    {
     "data": {
      "text/html": [
       "<div>\n",
       "<style scoped>\n",
       "    .dataframe tbody tr th:only-of-type {\n",
       "        vertical-align: middle;\n",
       "    }\n",
       "\n",
       "    .dataframe tbody tr th {\n",
       "        vertical-align: top;\n",
       "    }\n",
       "\n",
       "    .dataframe thead th {\n",
       "        text-align: right;\n",
       "    }\n",
       "</style>\n",
       "<table border=\"1\" class=\"dataframe\">\n",
       "  <thead>\n",
       "    <tr style=\"text-align: right;\">\n",
       "      <th></th>\n",
       "      <th>clicks</th>\n",
       "      <th>reg</th>\n",
       "      <th>new</th>\n",
       "      <th>rep</th>\n",
       "      <th>total</th>\n",
       "      <th>CR%</th>\n",
       "      <th>AR%</th>\n",
       "      <th>RLS%</th>\n",
       "      <th>payouts</th>\n",
       "      <th>EPC</th>\n",
       "      <th>EPL</th>\n",
       "      <th>CPAn</th>\n",
       "      <th>CPAr</th>\n",
       "      <th>new_pp</th>\n",
       "      <th>CPA_pp</th>\n",
       "      <th>new_np</th>\n",
       "      <th>CPA_np</th>\n",
       "    </tr>\n",
       "    <tr>\n",
       "      <th>date</th>\n",
       "      <th></th>\n",
       "      <th></th>\n",
       "      <th></th>\n",
       "      <th></th>\n",
       "      <th></th>\n",
       "      <th></th>\n",
       "      <th></th>\n",
       "      <th></th>\n",
       "      <th></th>\n",
       "      <th></th>\n",
       "      <th></th>\n",
       "      <th></th>\n",
       "      <th></th>\n",
       "      <th></th>\n",
       "      <th></th>\n",
       "      <th></th>\n",
       "      <th></th>\n",
       "    </tr>\n",
       "  </thead>\n",
       "  <tbody>\n",
       "    <tr>\n",
       "      <th>2021-01-01</th>\n",
       "      <td>1398</td>\n",
       "      <td>38</td>\n",
       "      <td>16</td>\n",
       "      <td>15</td>\n",
       "      <td>31</td>\n",
       "      <td>2.7</td>\n",
       "      <td>42.1</td>\n",
       "      <td>48.4</td>\n",
       "      <td>55200</td>\n",
       "      <td>39</td>\n",
       "      <td>1452</td>\n",
       "      <td>2981</td>\n",
       "      <td>3450</td>\n",
       "      <td>0.0</td>\n",
       "      <td>0</td>\n",
       "      <td>16</td>\n",
       "      <td>2981</td>\n",
       "    </tr>\n",
       "    <tr>\n",
       "      <th>2021-01-02</th>\n",
       "      <td>1650</td>\n",
       "      <td>71</td>\n",
       "      <td>28</td>\n",
       "      <td>39</td>\n",
       "      <td>67</td>\n",
       "      <td>4.3</td>\n",
       "      <td>39.4</td>\n",
       "      <td>58.2</td>\n",
       "      <td>96300</td>\n",
       "      <td>58</td>\n",
       "      <td>1356</td>\n",
       "      <td>2742</td>\n",
       "      <td>3439</td>\n",
       "      <td>0.0</td>\n",
       "      <td>0</td>\n",
       "      <td>28</td>\n",
       "      <td>2742</td>\n",
       "    </tr>\n",
       "    <tr>\n",
       "      <th>2021-01-03</th>\n",
       "      <td>2153</td>\n",
       "      <td>139</td>\n",
       "      <td>42</td>\n",
       "      <td>53</td>\n",
       "      <td>95</td>\n",
       "      <td>6.5</td>\n",
       "      <td>30.2</td>\n",
       "      <td>55.8</td>\n",
       "      <td>131200</td>\n",
       "      <td>60</td>\n",
       "      <td>943</td>\n",
       "      <td>2492</td>\n",
       "      <td>3123</td>\n",
       "      <td>0.0</td>\n",
       "      <td>0</td>\n",
       "      <td>42</td>\n",
       "      <td>2492</td>\n",
       "    </tr>\n",
       "    <tr>\n",
       "      <th>2021-01-04</th>\n",
       "      <td>2296</td>\n",
       "      <td>140</td>\n",
       "      <td>48</td>\n",
       "      <td>49</td>\n",
       "      <td>97</td>\n",
       "      <td>6.1</td>\n",
       "      <td>34.3</td>\n",
       "      <td>50.5</td>\n",
       "      <td>154400</td>\n",
       "      <td>67</td>\n",
       "      <td>1102</td>\n",
       "      <td>2706</td>\n",
       "      <td>3216</td>\n",
       "      <td>0.0</td>\n",
       "      <td>0</td>\n",
       "      <td>48</td>\n",
       "      <td>2706</td>\n",
       "    </tr>\n",
       "    <tr>\n",
       "      <th>2021-01-05</th>\n",
       "      <td>3199</td>\n",
       "      <td>217</td>\n",
       "      <td>63</td>\n",
       "      <td>50</td>\n",
       "      <td>113</td>\n",
       "      <td>6.8</td>\n",
       "      <td>29.0</td>\n",
       "      <td>44.2</td>\n",
       "      <td>190600</td>\n",
       "      <td>59</td>\n",
       "      <td>878</td>\n",
       "      <td>2628</td>\n",
       "      <td>3025</td>\n",
       "      <td>0.0</td>\n",
       "      <td>0</td>\n",
       "      <td>63</td>\n",
       "      <td>2628</td>\n",
       "    </tr>\n",
       "    <tr>\n",
       "      <th>...</th>\n",
       "      <td>...</td>\n",
       "      <td>...</td>\n",
       "      <td>...</td>\n",
       "      <td>...</td>\n",
       "      <td>...</td>\n",
       "      <td>...</td>\n",
       "      <td>...</td>\n",
       "      <td>...</td>\n",
       "      <td>...</td>\n",
       "      <td>...</td>\n",
       "      <td>...</td>\n",
       "      <td>...</td>\n",
       "      <td>...</td>\n",
       "      <td>...</td>\n",
       "      <td>...</td>\n",
       "      <td>...</td>\n",
       "      <td>...</td>\n",
       "    </tr>\n",
       "    <tr>\n",
       "      <th>2022-02-17</th>\n",
       "      <td>3261</td>\n",
       "      <td>195</td>\n",
       "      <td>41</td>\n",
       "      <td>21</td>\n",
       "      <td>62</td>\n",
       "      <td>6.0</td>\n",
       "      <td>21.0</td>\n",
       "      <td>33.9</td>\n",
       "      <td>170000</td>\n",
       "      <td>52</td>\n",
       "      <td>871</td>\n",
       "      <td>3890</td>\n",
       "      <td>4146</td>\n",
       "      <td>31.0</td>\n",
       "      <td>4051</td>\n",
       "      <td>10</td>\n",
       "      <td>3390</td>\n",
       "    </tr>\n",
       "    <tr>\n",
       "      <th>2022-02-18</th>\n",
       "      <td>3883</td>\n",
       "      <td>304</td>\n",
       "      <td>45</td>\n",
       "      <td>17</td>\n",
       "      <td>62</td>\n",
       "      <td>7.8</td>\n",
       "      <td>14.8</td>\n",
       "      <td>27.4</td>\n",
       "      <td>181700</td>\n",
       "      <td>46</td>\n",
       "      <td>597</td>\n",
       "      <td>3848</td>\n",
       "      <td>4037</td>\n",
       "      <td>38.0</td>\n",
       "      <td>4021</td>\n",
       "      <td>7</td>\n",
       "      <td>2914</td>\n",
       "    </tr>\n",
       "    <tr>\n",
       "      <th>2022-02-19</th>\n",
       "      <td>2601</td>\n",
       "      <td>176</td>\n",
       "      <td>41</td>\n",
       "      <td>22</td>\n",
       "      <td>63</td>\n",
       "      <td>6.8</td>\n",
       "      <td>23.3</td>\n",
       "      <td>34.9</td>\n",
       "      <td>168400</td>\n",
       "      <td>64</td>\n",
       "      <td>956</td>\n",
       "      <td>3839</td>\n",
       "      <td>4107</td>\n",
       "      <td>32.0</td>\n",
       "      <td>3962</td>\n",
       "      <td>9</td>\n",
       "      <td>3400</td>\n",
       "    </tr>\n",
       "    <tr>\n",
       "      <th>2022-02-20</th>\n",
       "      <td>2693</td>\n",
       "      <td>233</td>\n",
       "      <td>38</td>\n",
       "      <td>14</td>\n",
       "      <td>52</td>\n",
       "      <td>8.7</td>\n",
       "      <td>16.3</td>\n",
       "      <td>26.9</td>\n",
       "      <td>154200</td>\n",
       "      <td>57</td>\n",
       "      <td>661</td>\n",
       "      <td>3873</td>\n",
       "      <td>4057</td>\n",
       "      <td>27.0</td>\n",
       "      <td>3985</td>\n",
       "      <td>11</td>\n",
       "      <td>3600</td>\n",
       "    </tr>\n",
       "    <tr>\n",
       "      <th>2022-02-21</th>\n",
       "      <td>3424</td>\n",
       "      <td>267</td>\n",
       "      <td>61</td>\n",
       "      <td>18</td>\n",
       "      <td>79</td>\n",
       "      <td>7.8</td>\n",
       "      <td>22.8</td>\n",
       "      <td>22.8</td>\n",
       "      <td>249200</td>\n",
       "      <td>72</td>\n",
       "      <td>933</td>\n",
       "      <td>3937</td>\n",
       "      <td>4085</td>\n",
       "      <td>50.0</td>\n",
       "      <td>4096</td>\n",
       "      <td>11</td>\n",
       "      <td>3218</td>\n",
       "    </tr>\n",
       "  </tbody>\n",
       "</table>\n",
       "<p>417 rows × 17 columns</p>\n",
       "</div>"
      ],
      "text/plain": [
       "            clicks  reg  new  rep  total  CR%   AR%  RLS%  payouts  EPC   EPL  \\\n",
       "date                                                                            \n",
       "2021-01-01    1398   38   16   15     31  2.7  42.1  48.4    55200   39  1452   \n",
       "2021-01-02    1650   71   28   39     67  4.3  39.4  58.2    96300   58  1356   \n",
       "2021-01-03    2153  139   42   53     95  6.5  30.2  55.8   131200   60   943   \n",
       "2021-01-04    2296  140   48   49     97  6.1  34.3  50.5   154400   67  1102   \n",
       "2021-01-05    3199  217   63   50    113  6.8  29.0  44.2   190600   59   878   \n",
       "...            ...  ...  ...  ...    ...  ...   ...   ...      ...  ...   ...   \n",
       "2022-02-17    3261  195   41   21     62  6.0  21.0  33.9   170000   52   871   \n",
       "2022-02-18    3883  304   45   17     62  7.8  14.8  27.4   181700   46   597   \n",
       "2022-02-19    2601  176   41   22     63  6.8  23.3  34.9   168400   64   956   \n",
       "2022-02-20    2693  233   38   14     52  8.7  16.3  26.9   154200   57   661   \n",
       "2022-02-21    3424  267   61   18     79  7.8  22.8  22.8   249200   72   933   \n",
       "\n",
       "            CPAn  CPAr  new_pp  CPA_pp  new_np  CPA_np  \n",
       "date                                                    \n",
       "2021-01-01  2981  3450     0.0       0      16    2981  \n",
       "2021-01-02  2742  3439     0.0       0      28    2742  \n",
       "2021-01-03  2492  3123     0.0       0      42    2492  \n",
       "2021-01-04  2706  3216     0.0       0      48    2706  \n",
       "2021-01-05  2628  3025     0.0       0      63    2628  \n",
       "...          ...   ...     ...     ...     ...     ...  \n",
       "2022-02-17  3890  4146    31.0    4051      10    3390  \n",
       "2022-02-18  3848  4037    38.0    4021       7    2914  \n",
       "2022-02-19  3839  4107    32.0    3962       9    3400  \n",
       "2022-02-20  3873  4057    27.0    3985      11    3600  \n",
       "2022-02-21  3937  4085    50.0    4096      11    3218  \n",
       "\n",
       "[417 rows x 17 columns]"
      ]
     },
     "execution_count": 6,
     "metadata": {},
     "output_type": "execute_result"
    }
   ],
   "source": [
    "dynamic_report = get_dynamic_report(conversions, clicks, index='date')\n",
    "dynamic_report"
   ]
  },
  {
   "cell_type": "code",
   "execution_count": 7,
   "metadata": {
    "pycharm": {
     "is_executing": true
    }
   },
   "outputs": [],
   "source": [
    "# fig = px.bar(dynamic_report[dynamic_report.columns.to_list()])\n",
    "# # fig.update_yaxes(range=(5000, 15000))\n",
    "# fig.show()"
   ]
  },
  {
   "cell_type": "code",
   "execution_count": 8,
   "metadata": {
    "pycharm": {
     "is_executing": true
    }
   },
   "outputs": [],
   "source": [
    "# clicks"
   ]
  },
  {
   "cell_type": "code",
   "execution_count": 9,
   "metadata": {
    "pycharm": {
     "is_executing": true
    },
    "scrolled": true
   },
   "outputs": [],
   "source": [
    "# get_clicks_dataframe(advertiser=LIME, affiliate=affiliate, web=web, date_from=start, date_to=end)"
   ]
  },
  {
   "cell_type": "code",
   "execution_count": 10,
   "metadata": {
    "pycharm": {
     "is_executing": true
    }
   },
   "outputs": [],
   "source": [
    "# lg = conversions.query('partner == \"LEADGID\" and  goal != \"registration\"')\n",
    "# lg = lg.pivot_table(index='month', columns='sub3', values='goal', aggfunc='count', fill_value=0, margins=True)\n",
    "# lg.sort_values(by='All', ascending=False, axis=1)"
   ]
  },
  {
   "cell_type": "code",
   "execution_count": 11,
   "metadata": {},
   "outputs": [
    {
     "data": {
      "text/html": [
       "<div>\n",
       "<style scoped>\n",
       "    .dataframe tbody tr th:only-of-type {\n",
       "        vertical-align: middle;\n",
       "    }\n",
       "\n",
       "    .dataframe tbody tr th {\n",
       "        vertical-align: top;\n",
       "    }\n",
       "\n",
       "    .dataframe thead th {\n",
       "        text-align: right;\n",
       "    }\n",
       "</style>\n",
       "<table border=\"1\" class=\"dataframe\">\n",
       "  <thead>\n",
       "    <tr style=\"text-align: right;\">\n",
       "      <th></th>\n",
       "      <th>sub3</th>\n",
       "      <th>goal</th>\n",
       "    </tr>\n",
       "    <tr>\n",
       "      <th>referrer</th>\n",
       "      <th></th>\n",
       "      <th></th>\n",
       "    </tr>\n",
       "  </thead>\n",
       "  <tbody>\n",
       "    <tr>\n",
       "      <th></th>\n",
       "      <td>[31445, 34349, 69023, 32057, 43231, 8622, 2526...</td>\n",
       "      <td>44238</td>\n",
       "    </tr>\n",
       "    <tr>\n",
       "      <th>0procentov.website</th>\n",
       "      <td>[77181]</td>\n",
       "      <td>11</td>\n",
       "    </tr>\n",
       "    <tr>\n",
       "      <th>1000bankov.ru</th>\n",
       "      <td>[7720]</td>\n",
       "      <td>7</td>\n",
       "    </tr>\n",
       "    <tr>\n",
       "      <th>100rubles.ru</th>\n",
       "      <td>[24285]</td>\n",
       "      <td>2</td>\n",
       "    </tr>\n",
       "    <tr>\n",
       "      <th>101mfo.online</th>\n",
       "      <td>[76593]</td>\n",
       "      <td>1</td>\n",
       "    </tr>\n",
       "    <tr>\n",
       "      <th>...</th>\n",
       "      <td>...</td>\n",
       "      <td>...</td>\n",
       "    </tr>\n",
       "    <tr>\n",
       "      <th>zen.yandex.ru</th>\n",
       "      <td>[75156, 69626]</td>\n",
       "      <td>83</td>\n",
       "    </tr>\n",
       "    <tr>\n",
       "      <th>zero-zaim.ru</th>\n",
       "      <td>[51570]</td>\n",
       "      <td>123</td>\n",
       "    </tr>\n",
       "    <tr>\n",
       "      <th>zerozaem.ru</th>\n",
       "      <td>[9658]</td>\n",
       "      <td>3</td>\n",
       "    </tr>\n",
       "    <tr>\n",
       "      <th>zet-zaim.ru</th>\n",
       "      <td>[27369]</td>\n",
       "      <td>206</td>\n",
       "    </tr>\n",
       "    <tr>\n",
       "      <th>zmfo.ru</th>\n",
       "      <td>[70097]</td>\n",
       "      <td>2</td>\n",
       "    </tr>\n",
       "  </tbody>\n",
       "</table>\n",
       "<p>1242 rows × 2 columns</p>\n",
       "</div>"
      ],
      "text/plain": [
       "                                                                 sub3   goal\n",
       "referrer                                                                    \n",
       "                    [31445, 34349, 69023, 32057, 43231, 8622, 2526...  44238\n",
       "0procentov.website                                            [77181]     11\n",
       "1000bankov.ru                                                  [7720]      7\n",
       "100rubles.ru                                                  [24285]      2\n",
       "101mfo.online                                                 [76593]      1\n",
       "...                                                               ...    ...\n",
       "zen.yandex.ru                                          [75156, 69626]     83\n",
       "zero-zaim.ru                                                  [51570]    123\n",
       "zerozaem.ru                                                    [9658]      3\n",
       "zet-zaim.ru                                                   [27369]    206\n",
       "zmfo.ru                                                       [70097]      2\n",
       "\n",
       "[1242 rows x 2 columns]"
      ]
     },
     "execution_count": 11,
     "metadata": {},
     "output_type": "execute_result"
    }
   ],
   "source": [
    "conversions.groupby(by='referrer').agg({'sub3': 'unique', 'goal': 'count'})"
   ]
  },
  {
   "cell_type": "markdown",
   "metadata": {
    "pycharm": {
     "is_executing": true
    }
   },
   "source": [
    "### "
   ]
  }
 ],
 "metadata": {
  "celltoolbar": "Отсутствует",
  "kernelspec": {
   "display_name": "Python 3 (ipykernel)",
   "language": "python",
   "name": "python3"
  },
  "language_info": {
   "codemirror_mode": {
    "name": "ipython",
    "version": 3
   },
   "file_extension": ".py",
   "mimetype": "text/x-python",
   "name": "python",
   "nbconvert_exporter": "python",
   "pygments_lexer": "ipython3",
   "version": "3.9.9"
  }
 },
 "nbformat": 4,
 "nbformat_minor": 1
}