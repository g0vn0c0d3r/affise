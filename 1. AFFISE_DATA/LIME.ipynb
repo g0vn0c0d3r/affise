{
 "cells": [
  {
   "cell_type": "code",
   "execution_count": 8,
   "metadata": {},
   "outputs": [],
   "source": [
    "from basic_stats import *\n",
    "import datetime\n",
    "import warnings\n",
    "warnings.filterwarnings('ignore')"
   ]
  },
  {
   "cell_type": "code",
   "execution_count": 9,
   "metadata": {},
   "outputs": [],
   "source": [
    "date_from = '2022-01-01'\n",
    "date_to = '2022-01-05'\n",
    "# date_to = str(datetime.date.today())"
   ]
  },
  {
   "cell_type": "code",
   "execution_count": 10,
   "metadata": {},
   "outputs": [],
   "source": [
    "# single_api_conv_request(advertiser=LIME_ADV_ID, date_from=date_from, date_to=date_to)"
   ]
  },
  {
   "cell_type": "code",
   "execution_count": 11,
   "metadata": {
    "pycharm": {
     "name": "#%%\n"
    }
   },
   "outputs": [],
   "source": [
    "# lime_stats = get_conversions_dataframe(advertiser=LIME,  aff='29',  web='149714',  \n",
    "#                                        date_from=date_from,  date_to=date_to)"
   ]
  },
  {
   "cell_type": "code",
   "execution_count": 12,
   "metadata": {
    "pycharm": {
     "name": "#%%\n"
    }
   },
   "outputs": [],
   "source": [
    "ddt = get_dynamic_report(advertiser=LIME,  aff='29',  web='0', date_from=date_from,  date_to=date_to, index='date')"
   ]
  },
  {
   "cell_type": "code",
   "execution_count": 13,
   "metadata": {},
   "outputs": [
    {
     "data": {
      "text/plain": "            date action_id                  click_id     status  offer_id  \\\n0     2022-01-05   3782452  61d6031e190e9c00019c2166    pending        16   \n1     2022-01-05   5956608  61d601ff190e9c00019c20fd  confirmed        16   \n2     2022-01-05   5956625  61d60441190e9c00019c21de    pending        16   \n6     2022-01-05   5956627  61d60456190e9c00019c21e6    pending        16   \n7     2022-01-05   5956608  61d601ff190e9c00019c20fd    pending        16   \n...          ...       ...                       ...        ...       ...   \n12427 2022-01-01   5939335  61cf8d2d190e9c0001990cd3    pending        16   \n12429 2022-01-01   5494048  61cf8e99190e9c0001990d13  confirmed        16   \n12436 2022-01-01   5931830  61cf8550190e9c0001990b74    pending        16   \n12440 2022-01-01   5795336  61cf7dc1190e9c0001990a46  confirmed        16   \n12455 2022-01-01   5939294  61cf6a0e190e9c0001990718    pending        16   \n\n                     goal  payouts partner partner_id  \\\n0            registration        0   LEADS         29   \n1      med_score_new_loan     4000   LEADS         29   \n2            registration        0   LEADS         29   \n6            registration        0   LEADS         29   \n7            registration        0   LEADS         29   \n...                   ...      ...     ...        ...   \n12427        registration        0   LEADS         29   \n12429  med_score_new_loan     4000   LEADS         29   \n12436        registration        0   LEADS         29   \n12440  max_score_new_loan     4000   LEADS         29   \n12455        registration        0   LEADS         29   \n\n                       referrer                              sub1 sub2  \\\n0                                74dd1cc48713b06f989c4e9c1a7dfd90        \n1                                82d8e9fb5e7c947e0a3535f301f7e6f8        \n2                                02f7034057c7c91f81e3ef4f4ba99c06        \n6      zayman-ru.turbopages.org  5caea196373ab901915cc91e194e1567        \n7                                82d8e9fb5e7c947e0a3535f301f7e6f8        \n...                         ...                               ...  ...   \n12427               away.vk.com  6489ba7d764ef1ef22e74d643e171fa1        \n12429                            2c02db197c298f292bda7f5b3d83e83f        \n12436              zaimoman.com  0da2a1f39257bd321268c64ad6f02492        \n12440                            e666864fe42f97a909652cbbd24c4323        \n12455               away.vk.com  ebe076b9778a2d72df6e8680cafc0764        \n\n         sub3 loan_category  \\\n0      134174           reg   \n1      149714           new   \n2      126905           reg   \n6       47386           reg   \n7      149714           reg   \n...       ...           ...   \n12427  129922           reg   \n12429  126905           new   \n12436   45551           reg   \n12440  126905           new   \n12455  129922           reg   \n\n                                                    week  month  year  \n0      <bound method PandasDelegate._add_delegate_acc...      1  2022  \n1      <bound method PandasDelegate._add_delegate_acc...      1  2022  \n2      <bound method PandasDelegate._add_delegate_acc...      1  2022  \n6      <bound method PandasDelegate._add_delegate_acc...      1  2022  \n7      <bound method PandasDelegate._add_delegate_acc...      1  2022  \n...                                                  ...    ...   ...  \n12427  <bound method PandasDelegate._add_delegate_acc...      1  2022  \n12429  <bound method PandasDelegate._add_delegate_acc...      1  2022  \n12436  <bound method PandasDelegate._add_delegate_acc...      1  2022  \n12440  <bound method PandasDelegate._add_delegate_acc...      1  2022  \n12455  <bound method PandasDelegate._add_delegate_acc...      1  2022  \n\n[2770 rows x 17 columns]",
      "text/html": "<div>\n<style scoped>\n    .dataframe tbody tr th:only-of-type {\n        vertical-align: middle;\n    }\n\n    .dataframe tbody tr th {\n        vertical-align: top;\n    }\n\n    .dataframe thead th {\n        text-align: right;\n    }\n</style>\n<table border=\"1\" class=\"dataframe\">\n  <thead>\n    <tr style=\"text-align: right;\">\n      <th></th>\n      <th>date</th>\n      <th>action_id</th>\n      <th>click_id</th>\n      <th>status</th>\n      <th>offer_id</th>\n      <th>goal</th>\n      <th>payouts</th>\n      <th>partner</th>\n      <th>partner_id</th>\n      <th>referrer</th>\n      <th>sub1</th>\n      <th>sub2</th>\n      <th>sub3</th>\n      <th>loan_category</th>\n      <th>week</th>\n      <th>month</th>\n      <th>year</th>\n    </tr>\n  </thead>\n  <tbody>\n    <tr>\n      <th>0</th>\n      <td>2022-01-05</td>\n      <td>3782452</td>\n      <td>61d6031e190e9c00019c2166</td>\n      <td>pending</td>\n      <td>16</td>\n      <td>registration</td>\n      <td>0</td>\n      <td>LEADS</td>\n      <td>29</td>\n      <td></td>\n      <td>74dd1cc48713b06f989c4e9c1a7dfd90</td>\n      <td></td>\n      <td>134174</td>\n      <td>reg</td>\n      <td>&lt;bound method PandasDelegate._add_delegate_acc...</td>\n      <td>1</td>\n      <td>2022</td>\n    </tr>\n    <tr>\n      <th>1</th>\n      <td>2022-01-05</td>\n      <td>5956608</td>\n      <td>61d601ff190e9c00019c20fd</td>\n      <td>confirmed</td>\n      <td>16</td>\n      <td>med_score_new_loan</td>\n      <td>4000</td>\n      <td>LEADS</td>\n      <td>29</td>\n      <td></td>\n      <td>82d8e9fb5e7c947e0a3535f301f7e6f8</td>\n      <td></td>\n      <td>149714</td>\n      <td>new</td>\n      <td>&lt;bound method PandasDelegate._add_delegate_acc...</td>\n      <td>1</td>\n      <td>2022</td>\n    </tr>\n    <tr>\n      <th>2</th>\n      <td>2022-01-05</td>\n      <td>5956625</td>\n      <td>61d60441190e9c00019c21de</td>\n      <td>pending</td>\n      <td>16</td>\n      <td>registration</td>\n      <td>0</td>\n      <td>LEADS</td>\n      <td>29</td>\n      <td></td>\n      <td>02f7034057c7c91f81e3ef4f4ba99c06</td>\n      <td></td>\n      <td>126905</td>\n      <td>reg</td>\n      <td>&lt;bound method PandasDelegate._add_delegate_acc...</td>\n      <td>1</td>\n      <td>2022</td>\n    </tr>\n    <tr>\n      <th>6</th>\n      <td>2022-01-05</td>\n      <td>5956627</td>\n      <td>61d60456190e9c00019c21e6</td>\n      <td>pending</td>\n      <td>16</td>\n      <td>registration</td>\n      <td>0</td>\n      <td>LEADS</td>\n      <td>29</td>\n      <td>zayman-ru.turbopages.org</td>\n      <td>5caea196373ab901915cc91e194e1567</td>\n      <td></td>\n      <td>47386</td>\n      <td>reg</td>\n      <td>&lt;bound method PandasDelegate._add_delegate_acc...</td>\n      <td>1</td>\n      <td>2022</td>\n    </tr>\n    <tr>\n      <th>7</th>\n      <td>2022-01-05</td>\n      <td>5956608</td>\n      <td>61d601ff190e9c00019c20fd</td>\n      <td>pending</td>\n      <td>16</td>\n      <td>registration</td>\n      <td>0</td>\n      <td>LEADS</td>\n      <td>29</td>\n      <td></td>\n      <td>82d8e9fb5e7c947e0a3535f301f7e6f8</td>\n      <td></td>\n      <td>149714</td>\n      <td>reg</td>\n      <td>&lt;bound method PandasDelegate._add_delegate_acc...</td>\n      <td>1</td>\n      <td>2022</td>\n    </tr>\n    <tr>\n      <th>...</th>\n      <td>...</td>\n      <td>...</td>\n      <td>...</td>\n      <td>...</td>\n      <td>...</td>\n      <td>...</td>\n      <td>...</td>\n      <td>...</td>\n      <td>...</td>\n      <td>...</td>\n      <td>...</td>\n      <td>...</td>\n      <td>...</td>\n      <td>...</td>\n      <td>...</td>\n      <td>...</td>\n      <td>...</td>\n    </tr>\n    <tr>\n      <th>12427</th>\n      <td>2022-01-01</td>\n      <td>5939335</td>\n      <td>61cf8d2d190e9c0001990cd3</td>\n      <td>pending</td>\n      <td>16</td>\n      <td>registration</td>\n      <td>0</td>\n      <td>LEADS</td>\n      <td>29</td>\n      <td>away.vk.com</td>\n      <td>6489ba7d764ef1ef22e74d643e171fa1</td>\n      <td></td>\n      <td>129922</td>\n      <td>reg</td>\n      <td>&lt;bound method PandasDelegate._add_delegate_acc...</td>\n      <td>1</td>\n      <td>2022</td>\n    </tr>\n    <tr>\n      <th>12429</th>\n      <td>2022-01-01</td>\n      <td>5494048</td>\n      <td>61cf8e99190e9c0001990d13</td>\n      <td>confirmed</td>\n      <td>16</td>\n      <td>med_score_new_loan</td>\n      <td>4000</td>\n      <td>LEADS</td>\n      <td>29</td>\n      <td></td>\n      <td>2c02db197c298f292bda7f5b3d83e83f</td>\n      <td></td>\n      <td>126905</td>\n      <td>new</td>\n      <td>&lt;bound method PandasDelegate._add_delegate_acc...</td>\n      <td>1</td>\n      <td>2022</td>\n    </tr>\n    <tr>\n      <th>12436</th>\n      <td>2022-01-01</td>\n      <td>5931830</td>\n      <td>61cf8550190e9c0001990b74</td>\n      <td>pending</td>\n      <td>16</td>\n      <td>registration</td>\n      <td>0</td>\n      <td>LEADS</td>\n      <td>29</td>\n      <td>zaimoman.com</td>\n      <td>0da2a1f39257bd321268c64ad6f02492</td>\n      <td></td>\n      <td>45551</td>\n      <td>reg</td>\n      <td>&lt;bound method PandasDelegate._add_delegate_acc...</td>\n      <td>1</td>\n      <td>2022</td>\n    </tr>\n    <tr>\n      <th>12440</th>\n      <td>2022-01-01</td>\n      <td>5795336</td>\n      <td>61cf7dc1190e9c0001990a46</td>\n      <td>confirmed</td>\n      <td>16</td>\n      <td>max_score_new_loan</td>\n      <td>4000</td>\n      <td>LEADS</td>\n      <td>29</td>\n      <td></td>\n      <td>e666864fe42f97a909652cbbd24c4323</td>\n      <td></td>\n      <td>126905</td>\n      <td>new</td>\n      <td>&lt;bound method PandasDelegate._add_delegate_acc...</td>\n      <td>1</td>\n      <td>2022</td>\n    </tr>\n    <tr>\n      <th>12455</th>\n      <td>2022-01-01</td>\n      <td>5939294</td>\n      <td>61cf6a0e190e9c0001990718</td>\n      <td>pending</td>\n      <td>16</td>\n      <td>registration</td>\n      <td>0</td>\n      <td>LEADS</td>\n      <td>29</td>\n      <td>away.vk.com</td>\n      <td>ebe076b9778a2d72df6e8680cafc0764</td>\n      <td></td>\n      <td>129922</td>\n      <td>reg</td>\n      <td>&lt;bound method PandasDelegate._add_delegate_acc...</td>\n      <td>1</td>\n      <td>2022</td>\n    </tr>\n  </tbody>\n</table>\n<p>2770 rows × 17 columns</p>\n</div>"
     },
     "execution_count": 13,
     "metadata": {},
     "output_type": "execute_result"
    }
   ],
   "source": [
    "ddt"
   ]
  },
  {
   "cell_type": "code",
   "execution_count": 13,
   "metadata": {},
   "outputs": [],
   "source": []
  }
 ],
 "metadata": {
  "kernelspec": {
   "display_name": "Python 3 (ipykernel)",
   "language": "python",
   "name": "python3"
  },
  "language_info": {
   "codemirror_mode": {
    "name": "ipython",
    "version": 3
   },
   "file_extension": ".py",
   "mimetype": "text/x-python",
   "name": "python",
   "nbconvert_exporter": "python",
   "pygments_lexer": "ipython3",
   "version": "3.9.9"
  }
 },
 "nbformat": 4,
 "nbformat_minor": 1
}