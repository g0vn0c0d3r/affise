{
 "cells": [
  {
   "cell_type": "code",
   "execution_count": 1,
   "metadata": {},
   "outputs": [],
   "source": [
    "from basic_stats import *\n",
    "import plotly.express as px\n",
    "import datetime\n",
    "import matplotlib.pyplot as plt\n",
    "import warnings\n",
    "from time import time\n",
    "warnings.filterwarnings('ignore')"
   ]
  },
  {
   "cell_type": "markdown",
   "metadata": {},
   "source": [
    "### Укажите параметры для фильтрации данных"
   ]
  },
  {
   "cell_type": "code",
   "execution_count": 2,
   "metadata": {},
   "outputs": [],
   "source": [
    "# START_DATE\n",
    "start = '2021-09-01'\n",
    "\n",
    "# END_DATE\n",
    "end = str(datetime.date.today())\n",
    "# end = '2021-12-31'"
   ]
  },
  {
   "cell_type": "code",
   "execution_count": 3,
   "metadata": {},
   "outputs": [],
   "source": [
    "# PARTNER_ID\n",
    "affiliate = '82'\n",
    "\n",
    "# WEBMASTER_ID\n",
    "web = '0'"
   ]
  },
  {
   "cell_type": "markdown",
   "metadata": {},
   "source": [
    "### Выгрузка данных о конверсиях"
   ]
  },
  {
   "cell_type": "code",
   "execution_count": null,
   "metadata": {
    "pycharm": {
     "is_executing": true
    },
    "scrolled": false
   },
   "outputs": [],
   "source": [
    "start_ts = time()\n",
    "conversions = get_conversions_dataframe(advertiser=LIME, affiliate=affiliate, web=web, date_from=start, date_to=end)\n",
    "end_ts = time()\n",
    "\n",
    "display(f'Конверсии выгружены за {end_ts - start_ts:.0f} сек.')\n",
    "# display(conversions)"
   ]
  },
  {
   "cell_type": "markdown",
   "metadata": {},
   "source": [
    "### Выгрузка данных о кликах"
   ]
  },
  {
   "cell_type": "code",
   "execution_count": null,
   "metadata": {
    "pycharm": {
     "is_executing": true
    }
   },
   "outputs": [],
   "source": [
    "start_ts = time()\n",
    "clicks = get_clicks_dataframe(advertiser=LIME, affiliate=affiliate, web=web, date_from=start, date_to=end)\n",
    "end_ts = time()\n",
    "\n",
    "display(f'Клики выгружены за {end_ts - start_ts:.0f} сек.')\n",
    "# display(clicks)"
   ]
  },
  {
   "cell_type": "markdown",
   "metadata": {},
   "source": [
    "### Общий отчет с динамикой показателей\n",
    "**index** (datatype - str) отвечает за группировку данных и может принимать значения:\n",
    "* 'date' - по дням\n",
    "* 'week' - по неделям\n",
    "* 'month' - по месяцам\n",
    "* 'year' - по годам\n",
    "\n",
    "Также допускается смешанная группировка вида **index=['year', 'month']**\n",
    "\n",
    "### Важно\n",
    "Для перегруппировки данных не нужно перезапускать весь отчет - достаточно изменить index и запустить ячейку с dynamic_report"
   ]
  },
  {
   "cell_type": "markdown",
   "metadata": {},
   "source": [
    "### Данные, доступные для анализа\n",
    "* **clicks** - кол-во уникальных кликов\n",
    "* **reg** - кол-во регистраций (step4)\n",
    "* **new** - кол-во новых займов\n",
    "* **rep** - кол-во повторных займов\n",
    "* **total** - общее кол-во займов\n",
    "* **CR%** - кэф. конверсии в регистрацию\n",
    "* **AR%** - кэф. конверсии в выдачу (из регистрации)\n",
    "* **RLS%** - доля повторных займов\n",
    "* **payouts** - общая сумма выплат\n",
    "* **EPC** - доход на 1 уникальный клик\n",
    "* **EPL** - доход на 1 регистрацию\n",
    "* **CPAn** - доход на 1 новый выданный заем. Расчитывается по формуле ((payots - rep *500) / new) т.е без учета расходов на повторные выдачи\n",
    "* **CPAr** - доход на 1 новый выданный заем. Расчитывается по формуле payouts / new"
   ]
  },
  {
   "cell_type": "code",
   "execution_count": null,
   "metadata": {
    "pycharm": {
     "is_executing": true
    }
   },
   "outputs": [],
   "source": [
    "dynamic_report = get_dynamic_report(conversions, clicks, index=['year', 'month'])\n",
    "dynamic_report"
   ]
  },
  {
   "cell_type": "code",
   "execution_count": null,
   "metadata": {
    "pycharm": {
     "is_executing": true
    }
   },
   "outputs": [],
   "source": [
    "# fig = px.bar(dynamic_report[dynamic_report.columns.to_list()])\n",
    "# # fig.update_yaxes(range=(5000, 15000))\n",
    "# fig.show()"
   ]
  },
  {
   "cell_type": "code",
   "execution_count": null,
   "metadata": {
    "pycharm": {
     "is_executing": true
    }
   },
   "outputs": [],
   "source": [
    "# clicks"
   ]
  },
  {
   "cell_type": "code",
   "execution_count": null,
   "metadata": {
    "pycharm": {
     "is_executing": true
    },
    "scrolled": true
   },
   "outputs": [],
   "source": [
    "# get_clicks_dataframe(advertiser=LIME, affiliate=affiliate, web=web, date_from=start, date_to=end)"
   ]
  },
  {
   "cell_type": "code",
   "execution_count": null,
   "metadata": {
    "pycharm": {
     "is_executing": true
    }
   },
   "outputs": [],
   "source": [
    "# lg = conversions.query('partner == \"LEADGID\" and  goal != \"registration\"')\n",
    "# lg = lg.pivot_table(index='month', columns='sub3', values='goal', aggfunc='count', fill_value=0, margins=True)\n",
    "# lg.sort_values(by='All', ascending=False, axis=1)"
   ]
  },
  {
   "cell_type": "code",
   "execution_count": null,
   "metadata": {
    "pycharm": {
     "is_executing": true
    }
   },
   "outputs": [],
   "source": []
  }
 ],
 "metadata": {
  "celltoolbar": "Отсутствует",
  "kernelspec": {
   "display_name": "Python 3 (ipykernel)",
   "language": "python",
   "name": "python3"
  },
  "language_info": {
   "codemirror_mode": {
    "name": "ipython",
    "version": 3
   },
   "file_extension": ".py",
   "mimetype": "text/x-python",
   "name": "python",
   "nbconvert_exporter": "python",
   "pygments_lexer": "ipython3",
   "version": "3.9.9"
  }
 },
 "nbformat": 4,
 "nbformat_minor": 1
}