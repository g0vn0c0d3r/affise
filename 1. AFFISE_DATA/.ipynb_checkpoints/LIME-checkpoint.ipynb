{
 "cells": [
  {
   "cell_type": "code",
   "execution_count": 1,
   "metadata": {},
   "outputs": [],
   "source": [
    "from basic_stats import *\n",
    "import plotly.express as px\n",
    "import datetime\n",
    "import matplotlib.pyplot as plt\n",
    "import warnings\n",
    "from time import time\n",
    "warnings.filterwarnings('ignore')"
   ]
  },
  {
   "cell_type": "markdown",
   "metadata": {},
   "source": [
    "## Создаем датафрейм со всеми конверсиями за период"
   ]
  },
  {
   "cell_type": "code",
   "execution_count": 2,
   "metadata": {},
   "outputs": [],
   "source": [
    "start = '2022-02-01'\n",
    "end = str(datetime.date.today())\n",
    "# end = '2021-09-16'\n",
    "\n",
    "\n",
    "affiliate = '0'\n",
    "web = '0'"
   ]
  },
  {
   "cell_type": "code",
   "execution_count": 3,
   "metadata": {
    "scrolled": false
   },
   "outputs": [
    {
     "data": {
      "text/plain": [
       "95.6841881275177"
      ]
     },
     "metadata": {},
     "output_type": "display_data"
    }
   ],
   "source": [
    "start_ts = time()\n",
    "conversions = get_conversions_dataframe(advertiser=LIME, affiliate=affiliate, web=web, \n",
    "                                        date_from=start, date_to=end)\n",
    "end_ts = time()\n",
    "\n",
    "display(end_ts - start_ts)\n",
    "# display(conversions)"
   ]
  },
  {
   "cell_type": "code",
   "execution_count": 4,
   "metadata": {},
   "outputs": [
    {
     "data": {
      "text/plain": [
       "2.6803741455078125"
      ]
     },
     "metadata": {},
     "output_type": "display_data"
    }
   ],
   "source": [
    "start_ts = time()\n",
    "clicks = get_clicks_dataframe(advertiser=LIME, affiliate=affiliate, web=web, \n",
    "                              date_from=start, date_to=end)\n",
    "end_ts = time()\n",
    "\n",
    "display(end_ts - start_ts)\n",
    "# display(clicks)"
   ]
  },
  {
   "cell_type": "code",
   "execution_count": 16,
   "metadata": {},
   "outputs": [],
   "source": [
    "dynamic_report = get_dynamic_report(conversions, clicks, index='month')"
   ]
  },
  {
   "cell_type": "code",
   "execution_count": 17,
   "metadata": {},
   "outputs": [
    {
     "data": {
      "text/html": [
       "<div>\n",
       "<style scoped>\n",
       "    .dataframe tbody tr th:only-of-type {\n",
       "        vertical-align: middle;\n",
       "    }\n",
       "\n",
       "    .dataframe tbody tr th {\n",
       "        vertical-align: top;\n",
       "    }\n",
       "\n",
       "    .dataframe thead th {\n",
       "        text-align: right;\n",
       "    }\n",
       "</style>\n",
       "<table border=\"1\" class=\"dataframe\">\n",
       "  <thead>\n",
       "    <tr style=\"text-align: right;\">\n",
       "      <th></th>\n",
       "      <th>month</th>\n",
       "      <th>clicks</th>\n",
       "      <th>reg</th>\n",
       "      <th>new</th>\n",
       "      <th>rep</th>\n",
       "      <th>total</th>\n",
       "      <th>CR%</th>\n",
       "      <th>AR%</th>\n",
       "      <th>RLS%</th>\n",
       "      <th>payouts</th>\n",
       "      <th>EPC</th>\n",
       "      <th>EPL</th>\n",
       "      <th>CPAn</th>\n",
       "      <th>CPAr</th>\n",
       "    </tr>\n",
       "  </thead>\n",
       "  <tbody>\n",
       "    <tr>\n",
       "      <th>0</th>\n",
       "      <td>2</td>\n",
       "      <td>471240</td>\n",
       "      <td>32259</td>\n",
       "      <td>7411</td>\n",
       "      <td>2576</td>\n",
       "      <td>9987</td>\n",
       "      <td>6.8</td>\n",
       "      <td>23.0</td>\n",
       "      <td>25.8</td>\n",
       "      <td>28400000</td>\n",
       "      <td>60</td>\n",
       "      <td>880</td>\n",
       "      <td>3658</td>\n",
       "      <td>3832</td>\n",
       "    </tr>\n",
       "  </tbody>\n",
       "</table>\n",
       "</div>"
      ],
      "text/plain": [
       "   month  clicks    reg   new   rep  total  CR%   AR%  RLS%   payouts  EPC  \\\n",
       "0      2  471240  32259  7411  2576   9987  6.8  23.0  25.8  28400000   60   \n",
       "\n",
       "   EPL  CPAn  CPAr  \n",
       "0  880  3658  3832  "
      ]
     },
     "execution_count": 17,
     "metadata": {},
     "output_type": "execute_result"
    }
   ],
   "source": [
    "dynamic_report.reset_index()"
   ]
  },
  {
   "cell_type": "code",
   "execution_count": 7,
   "metadata": {},
   "outputs": [],
   "source": [
    "# fig = px.bar(dynamic_report[dynamic_report.columns.to_list()])\n",
    "# # fig.update_yaxes(range=(5000, 15000))\n",
    "# fig.show()"
   ]
  },
  {
   "cell_type": "code",
   "execution_count": 8,
   "metadata": {},
   "outputs": [],
   "source": [
    "# clicks"
   ]
  },
  {
   "cell_type": "code",
   "execution_count": 9,
   "metadata": {
    "scrolled": true
   },
   "outputs": [],
   "source": [
    "# get_clicks_dataframe(advertiser=LIME, affiliate=affiliate, web=web, date_from=start, date_to=end)"
   ]
  },
  {
   "cell_type": "code",
   "execution_count": 10,
   "metadata": {},
   "outputs": [
    {
     "data": {
      "text/html": [
       "<div>\n",
       "<style scoped>\n",
       "    .dataframe tbody tr th:only-of-type {\n",
       "        vertical-align: middle;\n",
       "    }\n",
       "\n",
       "    .dataframe tbody tr th {\n",
       "        vertical-align: top;\n",
       "    }\n",
       "\n",
       "    .dataframe thead th {\n",
       "        text-align: right;\n",
       "    }\n",
       "</style>\n",
       "<table border=\"1\" class=\"dataframe\">\n",
       "  <thead>\n",
       "    <tr style=\"text-align: right;\">\n",
       "      <th>sub3</th>\n",
       "      <th>All</th>\n",
       "      <th>34349</th>\n",
       "      <th>31445</th>\n",
       "      <th>64005</th>\n",
       "      <th>27805</th>\n",
       "      <th>75490</th>\n",
       "      <th>31447</th>\n",
       "      <th>66247</th>\n",
       "      <th>43231</th>\n",
       "      <th>19934</th>\n",
       "      <th>...</th>\n",
       "      <th>15747</th>\n",
       "      <th>2860</th>\n",
       "      <th>34879</th>\n",
       "      <th>37653</th>\n",
       "      <th>66488</th>\n",
       "      <th>66058</th>\n",
       "      <th>39087</th>\n",
       "      <th>42733</th>\n",
       "      <th>62788</th>\n",
       "      <th>70535</th>\n",
       "    </tr>\n",
       "    <tr>\n",
       "      <th>month</th>\n",
       "      <th></th>\n",
       "      <th></th>\n",
       "      <th></th>\n",
       "      <th></th>\n",
       "      <th></th>\n",
       "      <th></th>\n",
       "      <th></th>\n",
       "      <th></th>\n",
       "      <th></th>\n",
       "      <th></th>\n",
       "      <th></th>\n",
       "      <th></th>\n",
       "      <th></th>\n",
       "      <th></th>\n",
       "      <th></th>\n",
       "      <th></th>\n",
       "      <th></th>\n",
       "      <th></th>\n",
       "      <th></th>\n",
       "      <th></th>\n",
       "      <th></th>\n",
       "    </tr>\n",
       "  </thead>\n",
       "  <tbody>\n",
       "    <tr>\n",
       "      <th>2</th>\n",
       "      <td>964</td>\n",
       "      <td>255</td>\n",
       "      <td>116</td>\n",
       "      <td>111</td>\n",
       "      <td>75</td>\n",
       "      <td>74</td>\n",
       "      <td>64</td>\n",
       "      <td>52</td>\n",
       "      <td>28</td>\n",
       "      <td>25</td>\n",
       "      <td>...</td>\n",
       "      <td>1</td>\n",
       "      <td>1</td>\n",
       "      <td>1</td>\n",
       "      <td>1</td>\n",
       "      <td>1</td>\n",
       "      <td>1</td>\n",
       "      <td>1</td>\n",
       "      <td>1</td>\n",
       "      <td>1</td>\n",
       "      <td>1</td>\n",
       "    </tr>\n",
       "    <tr>\n",
       "      <th>All</th>\n",
       "      <td>964</td>\n",
       "      <td>255</td>\n",
       "      <td>116</td>\n",
       "      <td>111</td>\n",
       "      <td>75</td>\n",
       "      <td>74</td>\n",
       "      <td>64</td>\n",
       "      <td>52</td>\n",
       "      <td>28</td>\n",
       "      <td>25</td>\n",
       "      <td>...</td>\n",
       "      <td>1</td>\n",
       "      <td>1</td>\n",
       "      <td>1</td>\n",
       "      <td>1</td>\n",
       "      <td>1</td>\n",
       "      <td>1</td>\n",
       "      <td>1</td>\n",
       "      <td>1</td>\n",
       "      <td>1</td>\n",
       "      <td>1</td>\n",
       "    </tr>\n",
       "  </tbody>\n",
       "</table>\n",
       "<p>2 rows × 57 columns</p>\n",
       "</div>"
      ],
      "text/plain": [
       "sub3   All  34349  31445  64005  27805  75490  31447  66247  43231  19934  \\\n",
       "month                                                                       \n",
       "2      964    255    116    111     75     74     64     52     28     25   \n",
       "All    964    255    116    111     75     74     64     52     28     25   \n",
       "\n",
       "sub3   ...  15747  2860  34879  37653  66488  66058  39087  42733  62788  \\\n",
       "month  ...                                                                 \n",
       "2      ...      1     1      1      1      1      1      1      1      1   \n",
       "All    ...      1     1      1      1      1      1      1      1      1   \n",
       "\n",
       "sub3   70535  \n",
       "month         \n",
       "2          1  \n",
       "All        1  \n",
       "\n",
       "[2 rows x 57 columns]"
      ]
     },
     "execution_count": 10,
     "metadata": {},
     "output_type": "execute_result"
    }
   ],
   "source": [
    "lg = conversions.query('partner == \"LEADGID\" and  goal != \"registration\"')\n",
    "lg = lg.pivot_table(index='month', columns='sub3', values='goal', aggfunc='count', fill_value=0, margins=True)\n",
    "lg.sort_values(by='All', ascending=False, axis=1)"
   ]
  },
  {
   "cell_type": "code",
   "execution_count": null,
   "metadata": {},
   "outputs": [],
   "source": []
  }
 ],
 "metadata": {
  "celltoolbar": "Отсутствует",
  "kernelspec": {
   "display_name": "Python 3 (ipykernel)",
   "language": "python",
   "name": "python3"
  },
  "language_info": {
   "codemirror_mode": {
    "name": "ipython",
    "version": 3
   },
   "file_extension": ".py",
   "mimetype": "text/x-python",
   "name": "python",
   "nbconvert_exporter": "python",
   "pygments_lexer": "ipython3",
   "version": "3.9.9"
  }
 },
 "nbformat": 4,
 "nbformat_minor": 1
}
