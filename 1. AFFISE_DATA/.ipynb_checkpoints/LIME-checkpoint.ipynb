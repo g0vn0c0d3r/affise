{
 "cells": [
  {
   "cell_type": "code",
   "execution_count": 1,
   "metadata": {},
   "outputs": [],
   "source": [
    "from basic_stats import *\n",
    "import datetime"
   ]
  },
  {
   "cell_type": "code",
   "execution_count": 2,
   "metadata": {},
   "outputs": [],
   "source": [
    "date_from = '2021-12-15'\n",
    "date_to = str(datetime.date.today())"
   ]
  },
  {
   "cell_type": "code",
   "execution_count": 4,
   "metadata": {
    "pycharm": {
     "name": "#%%\n"
    }
   },
   "outputs": [
    {
     "data": {
      "text/plain": [
       "{'status': 1,\n",
       " 'conversions': [{'id': '61c07074cb2abd16ee76d613',\n",
       "   'action_id': '5891928',\n",
       "   'status': 'pending',\n",
       "   'conversion_id': '61c07074cb2abd16ee76d613',\n",
       "   'cbid': '5891928',\n",
       "   'currency': 'RUB',\n",
       "   'offer': {'id': 16,\n",
       "    'title': 'Lime // Hybrid (new+repeat loans)',\n",
       "    'offer_id': '16',\n",
       "    'url': 'https://www.lime-zaim.ru//?utm_source=hybrid_offer&utm_medium=cpa&webmaster_id={sub3}&clickid={clickid}&pid={pid}',\n",
       "    'external_id': ''},\n",
       "   'offer_id': 16,\n",
       "   'goal': 'регистрация',\n",
       "   'hold_date_expire': None,\n",
       "   'ip': '188.186.209.229',\n",
       "   'country': 'RU',\n",
       "   'country_name': 'Russian Federation',\n",
       "   'district': None,\n",
       "   'city': 'Orenburg',\n",
       "   'city_id': 7543,\n",
       "   'isp_code': '-',\n",
       "   'ua': 'Mozilla/5.0 (iPhone; CPU iPhone OS 15_1 like Mac OS X) AppleWebKit/605.1.15 (KHTML, like Gecko) Version/15.0 YaBrowser/21.11.6.402.10 SA/3 Mobile/15E148 Safari/604.1',\n",
       "   'browser': 'Yandex.Browser for iOS 21.11',\n",
       "   'os': 'iOS 15.1',\n",
       "   'device': 'mobile',\n",
       "   'device_type': 'mobile',\n",
       "   'sub1': '102bd7bdb95a82d052dacb40280a4e',\n",
       "   'sub2': '',\n",
       "   'sub3': '',\n",
       "   'sub4': '',\n",
       "   'sub5': '',\n",
       "   'sub6': '',\n",
       "   'sub7': '',\n",
       "   'sub8': '',\n",
       "   'custom_field_1': '',\n",
       "   'custom_field_2': '',\n",
       "   'custom_field_3': '',\n",
       "   'custom_field_4': '',\n",
       "   'custom_field_5': '',\n",
       "   'custom_field_6': '',\n",
       "   'custom_field_7': '',\n",
       "   'comment': '',\n",
       "   'created_at': '2021-12-20 15:00:51',\n",
       "   'click_time': '2021-12-20 14:52:34',\n",
       "   'referrer': 'www.banki.ru',\n",
       "   'landing_id': 0,\n",
       "   'prelanding_id': 0,\n",
       "   'ref_id': '',\n",
       "   'promocode': '',\n",
       "   'details': {'fbclid': None},\n",
       "   'imp_id': '\\x00\\x00\\x00\\x00\\x00\\x00\\x00\\x00\\x00\\x00\\x00\\x00\\x00\\x00\\x00\\x00\\x00\\x00\\x00\\x00\\x00\\x00\\x00\\x00',\n",
       "   'clickid': '61c06e82190e9c0001904734',\n",
       "   'partner': {'id': 13,\n",
       "    'title': 'BANKI',\n",
       "    'email': 'cpa@banki.ru',\n",
       "    'login': 'BANKI',\n",
       "    'name': 'BANKI',\n",
       "    'manager': {'id': '5e5ec06798ec8d6e8418aa0d',\n",
       "     'title': 'M L',\n",
       "     'first_name': 'M',\n",
       "     'last_name': 'L'},\n",
       "    'manager_id': '5e5ec06798ec8d6e8418aa0d'},\n",
       "   'supplier_id': '5a558391c3ebae42008b4567',\n",
       "   'partner_id': 13,\n",
       "   'goal_value': '1',\n",
       "   'sum': 0,\n",
       "   'revenue': 0,\n",
       "   'payouts': 0,\n",
       "   'earnings': 0,\n",
       "   'advertiser': {'id': '5a558391c3ebae42008b4567', 'title': 'Lime'},\n",
       "   'payment_type': 'fixed',\n",
       "   'payment_status': 'opened',\n",
       "   'is_paid': '1'}],\n",
       " 'pagination': {'total_count': 15628,\n",
       "  'per_page': 1,\n",
       "  'page': 1,\n",
       "  'next_page': 2},\n",
       " 'statusCode': 200}"
      ]
     },
     "execution_count": 4,
     "metadata": {},
     "output_type": "execute_result"
    }
   ],
   "source": [
    "get_conversions_data(advertiser=LIME_ADV_ID, date_from=date_from, date_to=date_to).json()"
   ]
  },
  {
   "cell_type": "code",
   "execution_count": null,
   "metadata": {
    "pycharm": {
     "name": "#%%\n"
    }
   },
   "outputs": [],
   "source": []
  }
 ],
 "metadata": {
  "kernelspec": {
   "display_name": "Python 3 (ipykernel)",
   "language": "python",
   "name": "python3"
  },
  "language_info": {
   "codemirror_mode": {
    "name": "ipython",
    "version": 3
   },
   "file_extension": ".py",
   "mimetype": "text/x-python",
   "name": "python",
   "nbconvert_exporter": "python",
   "pygments_lexer": "ipython3",
   "version": "3.9.9"
  }
 },
 "nbformat": 4,
 "nbformat_minor": 1
}
