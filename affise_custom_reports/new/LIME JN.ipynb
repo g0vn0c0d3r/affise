{
 "cells": [
  {
   "cell_type": "code",
   "execution_count": 1,
   "id": "0c32eb02",
   "metadata": {},
   "outputs": [],
   "source": [
    "from Advertiser import *\n",
    "import datetime"
   ]
  },
  {
   "cell_type": "code",
   "execution_count": 2,
   "id": "2b853606",
   "metadata": {},
   "outputs": [],
   "source": [
    "LIME = '5a558391c3ebae42008b4567'\n",
    "KONGA = '5a558967c3ebae43008b4567'"
   ]
  },
  {
   "cell_type": "code",
   "execution_count": 3,
   "id": "d4d53d8d",
   "metadata": {},
   "outputs": [],
   "source": [
    "lime = Advertiser(adv_id=LIME)\n",
    "konga = Advertiser(adv_id=KONGA)"
   ]
  },
  {
   "cell_type": "code",
   "execution_count": 4,
   "id": "b6a2e2f1",
   "metadata": {},
   "outputs": [],
   "source": [
    "start_date = '2021-01-04'\n",
    "end_date = str(datetime.date.today())"
   ]
  },
  {
   "cell_type": "code",
   "execution_count": null,
   "id": "c8f57254",
   "metadata": {},
   "outputs": [],
   "source": [
    "lime_df = lime.create_data_frame(date_from=start_date, date_to=end_date)"
   ]
  },
  {
   "cell_type": "code",
   "execution_count": null,
   "id": "72814185",
   "metadata": {},
   "outputs": [],
   "source": [
    "'''\n",
    "функция принимает 2 аргумента:\n",
    "*data - фрейм(в нашем случае lime_df), в котором каждая строка = уникальная конверсия с определенным набором данных\n",
    "*index - метод группировки. Доступные для группировки значения: date, week, month, year.\n",
    "'''\n",
    "get_general_stats(data=lime_df, pid=0, wid=0, index='week')"
   ]
  },
  {
   "cell_type": "code",
   "execution_count": null,
   "id": "98309cd9",
   "metadata": {},
   "outputs": [],
   "source": [
    "top5 = lime_df[lime_df['loan_category'] == 'new']['partner_id'].value_counts()"
   ]
  },
  {
   "cell_type": "code",
   "execution_count": null,
   "id": "4e5cbbe5",
   "metadata": {},
   "outputs": [],
   "source": []
  }
 ],
 "metadata": {
  "kernelspec": {
   "display_name": "Python 3",
   "language": "python",
   "name": "python3"
  },
  "language_info": {
   "codemirror_mode": {
    "name": "ipython",
    "version": 3
   },
   "file_extension": ".py",
   "mimetype": "text/x-python",
   "name": "python",
   "nbconvert_exporter": "python",
   "pygments_lexer": "ipython3",
   "version": "3.8.8"
  }
 },
 "nbformat": 4,
 "nbformat_minor": 5
}
