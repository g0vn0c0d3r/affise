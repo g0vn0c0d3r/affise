{
 "cells": [
  {
   "cell_type": "code",
   "execution_count": 1,
   "id": "0c32eb02",
   "metadata": {},
   "outputs": [],
   "source": [
    "from Advertiser import *\n",
    "import datetime"
   ]
  },
  {
   "cell_type": "code",
   "execution_count": 2,
   "id": "2b853606",
   "metadata": {},
   "outputs": [],
   "source": [
    "LIME = '5a558391c3ebae42008b4567'\n",
    "KONGA = '5a558967c3ebae43008b4567'"
   ]
  },
  {
   "cell_type": "code",
   "execution_count": 3,
   "id": "d4d53d8d",
   "metadata": {},
   "outputs": [],
   "source": [
    "lime = Advertiser(adv_id=LIME)\n",
    "konga = Advertiser(adv_id=KONGA)"
   ]
  },
  {
   "cell_type": "code",
   "execution_count": 4,
   "id": "b6a2e2f1",
   "metadata": {},
   "outputs": [],
   "source": [
    "start_date = '2021-05-01'\n",
    "end_date = str(datetime.date.today())"
   ]
  },
  {
   "cell_type": "code",
   "execution_count": 5,
   "id": "4f44139d",
   "metadata": {},
   "outputs": [],
   "source": [
    "lime_df = lime.create_data_frame(date_from=start_date, date_to=end_date)"
   ]
  },
  {
   "cell_type": "code",
   "execution_count": 7,
   "id": "72814185",
   "metadata": {},
   "outputs": [
    {
     "data": {
      "text/html": [
       "<div>\n",
       "<style scoped>\n",
       "    .dataframe tbody tr th:only-of-type {\n",
       "        vertical-align: middle;\n",
       "    }\n",
       "\n",
       "    .dataframe tbody tr th {\n",
       "        vertical-align: top;\n",
       "    }\n",
       "\n",
       "    .dataframe thead th {\n",
       "        text-align: right;\n",
       "    }\n",
       "</style>\n",
       "<table border=\"1\" class=\"dataframe\">\n",
       "  <thead>\n",
       "    <tr style=\"text-align: right;\">\n",
       "      <th>loan_category</th>\n",
       "      <th>reg</th>\n",
       "      <th>new</th>\n",
       "      <th>rep</th>\n",
       "      <th>total</th>\n",
       "      <th>ARn%</th>\n",
       "      <th>ARr%</th>\n",
       "      <th>RLS%</th>\n",
       "      <th>costs_new</th>\n",
       "      <th>costs_rep</th>\n",
       "      <th>costs_total</th>\n",
       "      <th>CPAn</th>\n",
       "      <th>CPAo</th>\n",
       "      <th>CPAr</th>\n",
       "    </tr>\n",
       "    <tr>\n",
       "      <th>week</th>\n",
       "      <th></th>\n",
       "      <th></th>\n",
       "      <th></th>\n",
       "      <th></th>\n",
       "      <th></th>\n",
       "      <th></th>\n",
       "      <th></th>\n",
       "      <th></th>\n",
       "      <th></th>\n",
       "      <th></th>\n",
       "      <th></th>\n",
       "      <th></th>\n",
       "      <th></th>\n",
       "    </tr>\n",
       "  </thead>\n",
       "  <tbody>\n",
       "    <tr>\n",
       "      <th>17</th>\n",
       "      <td>2817</td>\n",
       "      <td>694</td>\n",
       "      <td>394</td>\n",
       "      <td>1088</td>\n",
       "      <td>0.25</td>\n",
       "      <td>0.14</td>\n",
       "      <td>0.36</td>\n",
       "      <td>2057400</td>\n",
       "      <td>197000</td>\n",
       "      <td>2254400</td>\n",
       "      <td>2964</td>\n",
       "      <td>500</td>\n",
       "      <td>3248</td>\n",
       "    </tr>\n",
       "    <tr>\n",
       "      <th>18</th>\n",
       "      <td>12462</td>\n",
       "      <td>3088</td>\n",
       "      <td>1463</td>\n",
       "      <td>4551</td>\n",
       "      <td>0.25</td>\n",
       "      <td>0.12</td>\n",
       "      <td>0.32</td>\n",
       "      <td>9242600</td>\n",
       "      <td>731500</td>\n",
       "      <td>9974100</td>\n",
       "      <td>2993</td>\n",
       "      <td>500</td>\n",
       "      <td>3229</td>\n",
       "    </tr>\n",
       "    <tr>\n",
       "      <th>19</th>\n",
       "      <td>12688</td>\n",
       "      <td>3153</td>\n",
       "      <td>1456</td>\n",
       "      <td>4609</td>\n",
       "      <td>0.25</td>\n",
       "      <td>0.11</td>\n",
       "      <td>0.32</td>\n",
       "      <td>9424700</td>\n",
       "      <td>728000</td>\n",
       "      <td>10152700</td>\n",
       "      <td>2989</td>\n",
       "      <td>500</td>\n",
       "      <td>3220</td>\n",
       "    </tr>\n",
       "    <tr>\n",
       "      <th>20</th>\n",
       "      <td>6168</td>\n",
       "      <td>1489</td>\n",
       "      <td>775</td>\n",
       "      <td>2264</td>\n",
       "      <td>0.24</td>\n",
       "      <td>0.13</td>\n",
       "      <td>0.34</td>\n",
       "      <td>4432900</td>\n",
       "      <td>387500</td>\n",
       "      <td>4820400</td>\n",
       "      <td>2977</td>\n",
       "      <td>500</td>\n",
       "      <td>3237</td>\n",
       "    </tr>\n",
       "  </tbody>\n",
       "</table>\n",
       "</div>"
      ],
      "text/plain": [
       "loan_category    reg   new   rep  total  ARn%  ARr%  RLS%  costs_new  \\\n",
       "week                                                                   \n",
       "17              2817   694   394   1088  0.25  0.14  0.36    2057400   \n",
       "18             12462  3088  1463   4551  0.25  0.12  0.32    9242600   \n",
       "19             12688  3153  1456   4609  0.25  0.11  0.32    9424700   \n",
       "20              6168  1489   775   2264  0.24  0.13  0.34    4432900   \n",
       "\n",
       "loan_category  costs_rep  costs_total  CPAn  CPAo  CPAr  \n",
       "week                                                     \n",
       "17                197000      2254400  2964   500  3248  \n",
       "18                731500      9974100  2993   500  3229  \n",
       "19                728000     10152700  2989   500  3220  \n",
       "20                387500      4820400  2977   500  3237  "
      ]
     },
     "execution_count": 7,
     "metadata": {},
     "output_type": "execute_result"
    }
   ],
   "source": [
    "'''\n",
    "функция принимает 2 аргумента:\n",
    "*data - фрейм(в нашем случае lime_df), в котором каждая строка = уникальная конверсия с определенным набором данных\n",
    "*index - метод группировки. Доступные для группировки значения: date, week, month, year.\n",
    "'''\n",
    "get_general_stats(data=lime_df, index='week')"
   ]
  },
  {
   "cell_type": "code",
   "execution_count": null,
   "id": "839272af",
   "metadata": {},
   "outputs": [],
   "source": []
  }
 ],
 "metadata": {
  "kernelspec": {
   "display_name": "Python 3",
   "language": "python",
   "name": "python3"
  },
  "language_info": {
   "codemirror_mode": {
    "name": "ipython",
    "version": 3
   },
   "file_extension": ".py",
   "mimetype": "text/x-python",
   "name": "python",
   "nbconvert_exporter": "python",
   "pygments_lexer": "ipython3",
   "version": "3.8.8"
  }
 },
 "nbformat": 4,
 "nbformat_minor": 5
}
