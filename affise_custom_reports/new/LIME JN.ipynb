{
 "cells": [
  {
   "cell_type": "code",
   "execution_count": 1,
   "id": "0c32eb02",
   "metadata": {},
   "outputs": [],
   "source": [
    "from Advertiser import *\n",
    "import datetime"
   ]
  },
  {
   "cell_type": "code",
   "execution_count": 2,
   "id": "2b853606",
   "metadata": {},
   "outputs": [],
   "source": [
    "LIME = '5a558391c3ebae42008b4567'\n",
    "KONGA = '5a558967c3ebae43008b4567'"
   ]
  },
  {
   "cell_type": "code",
   "execution_count": 3,
   "id": "d4d53d8d",
   "metadata": {},
   "outputs": [],
   "source": [
    "lime = Advertiser(adv_id=LIME)\n",
    "konga = Advertiser(adv_id=KONGA)"
   ]
  },
  {
   "cell_type": "code",
   "execution_count": 4,
   "id": "b6a2e2f1",
   "metadata": {},
   "outputs": [],
   "source": [
    "start_date = '2021-05-10'\n",
    "end_date = str(datetime.date.today())"
   ]
  },
  {
   "cell_type": "code",
   "execution_count": 5,
   "id": "2cee90d1",
   "metadata": {},
   "outputs": [],
   "source": [
    "# доступные параметры для index: date, week, month, year\n",
    "lime = lime.general_stats(date_from=start_date, date_to=end_date, index='date')"
   ]
  },
  {
   "cell_type": "code",
   "execution_count": 6,
   "id": "72814185",
   "metadata": {},
   "outputs": [
    {
     "data": {
      "text/html": [
       "<div>\n",
       "<style scoped>\n",
       "    .dataframe tbody tr th:only-of-type {\n",
       "        vertical-align: middle;\n",
       "    }\n",
       "\n",
       "    .dataframe tbody tr th {\n",
       "        vertical-align: top;\n",
       "    }\n",
       "\n",
       "    .dataframe thead th {\n",
       "        text-align: right;\n",
       "    }\n",
       "</style>\n",
       "<table border=\"1\" class=\"dataframe\">\n",
       "  <thead>\n",
       "    <tr style=\"text-align: right;\">\n",
       "      <th>loan_category</th>\n",
       "      <th>reg</th>\n",
       "      <th>new</th>\n",
       "      <th>old</th>\n",
       "    </tr>\n",
       "    <tr>\n",
       "      <th>date</th>\n",
       "      <th></th>\n",
       "      <th></th>\n",
       "      <th></th>\n",
       "    </tr>\n",
       "  </thead>\n",
       "  <tbody>\n",
       "    <tr>\n",
       "      <th>2021-05-10</th>\n",
       "      <td>1989</td>\n",
       "      <td>479</td>\n",
       "      <td>218</td>\n",
       "    </tr>\n",
       "    <tr>\n",
       "      <th>2021-05-11</th>\n",
       "      <td>2120</td>\n",
       "      <td>596</td>\n",
       "      <td>243</td>\n",
       "    </tr>\n",
       "    <tr>\n",
       "      <th>2021-05-12</th>\n",
       "      <td>1908</td>\n",
       "      <td>478</td>\n",
       "      <td>210</td>\n",
       "    </tr>\n",
       "    <tr>\n",
       "      <th>2021-05-13</th>\n",
       "      <td>1643</td>\n",
       "      <td>421</td>\n",
       "      <td>189</td>\n",
       "    </tr>\n",
       "    <tr>\n",
       "      <th>2021-05-14</th>\n",
       "      <td>1651</td>\n",
       "      <td>428</td>\n",
       "      <td>208</td>\n",
       "    </tr>\n",
       "    <tr>\n",
       "      <th>2021-05-15</th>\n",
       "      <td>1641</td>\n",
       "      <td>374</td>\n",
       "      <td>203</td>\n",
       "    </tr>\n",
       "    <tr>\n",
       "      <th>2021-05-16</th>\n",
       "      <td>1735</td>\n",
       "      <td>377</td>\n",
       "      <td>184</td>\n",
       "    </tr>\n",
       "    <tr>\n",
       "      <th>2021-05-17</th>\n",
       "      <td>987</td>\n",
       "      <td>249</td>\n",
       "      <td>104</td>\n",
       "    </tr>\n",
       "  </tbody>\n",
       "</table>\n",
       "</div>"
      ],
      "text/plain": [
       "loan_category   reg  new  old\n",
       "date                         \n",
       "2021-05-10     1989  479  218\n",
       "2021-05-11     2120  596  243\n",
       "2021-05-12     1908  478  210\n",
       "2021-05-13     1643  421  189\n",
       "2021-05-14     1651  428  208\n",
       "2021-05-15     1641  374  203\n",
       "2021-05-16     1735  377  184\n",
       "2021-05-17      987  249  104"
      ]
     },
     "execution_count": 6,
     "metadata": {},
     "output_type": "execute_result"
    }
   ],
   "source": [
    "'''\n",
    "reg - registrations\n",
    "new - new loans\n",
    "old - repeated loans\n",
    "all - all loans (new + old)\n",
    "ARn% - approve rate reg->new\n",
    "ARo% - approve rate reg->old\n",
    "RLS% - repeated loans share \n",
    "'''\n",
    "lime"
   ]
  }
 ],
 "metadata": {
  "kernelspec": {
   "display_name": "Python 3",
   "language": "python",
   "name": "python3"
  },
  "language_info": {
   "codemirror_mode": {
    "name": "ipython",
    "version": 3
   },
   "file_extension": ".py",
   "mimetype": "text/x-python",
   "name": "python",
   "nbconvert_exporter": "python",
   "pygments_lexer": "ipython3",
   "version": "3.8.8"
  }
 },
 "nbformat": 4,
 "nbformat_minor": 5
}
