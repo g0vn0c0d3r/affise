{
 "cells": [
  {
   "cell_type": "code",
   "execution_count": 1,
   "id": "afe05547",
   "metadata": {},
   "outputs": [],
   "source": [
    "from Advertiser import *\n",
    "import datetime"
   ]
  },
  {
   "cell_type": "code",
   "execution_count": 2,
   "id": "f83b1099",
   "metadata": {},
   "outputs": [],
   "source": [
    "LIME = '5a558391c3ebae42008b4567'\n",
    "KONGA = '5a558967c3ebae43008b4567'"
   ]
  },
  {
   "cell_type": "code",
   "execution_count": 3,
   "id": "db5f6f65",
   "metadata": {},
   "outputs": [],
   "source": [
    "lime = Advertiser(adv_id=LIME)\n",
    "konga = Advertiser(adv_id=KONGA)"
   ]
  },
  {
   "cell_type": "code",
   "execution_count": 4,
   "id": "5a40f5c8",
   "metadata": {},
   "outputs": [],
   "source": [
    "start_date = '2021-01-01'\n",
    "end_date = str(datetime.date.today())"
   ]
  },
  {
   "cell_type": "code",
   "execution_count": null,
   "id": "528dedbf",
   "metadata": {},
   "outputs": [],
   "source": [
    "lime = lime.conversions_by_partners_and_time(date_from=start_date, date_to=end_date, index='week')"
   ]
  },
  {
   "cell_type": "code",
   "execution_count": null,
   "id": "992ae748",
   "metadata": {},
   "outputs": [],
   "source": [
    "lime"
   ]
  }
 ],
 "metadata": {
  "kernelspec": {
   "display_name": "Python 3",
   "language": "python",
   "name": "python3"
  },
  "language_info": {
   "codemirror_mode": {
    "name": "ipython",
    "version": 3
   },
   "file_extension": ".py",
   "mimetype": "text/x-python",
   "name": "python",
   "nbconvert_exporter": "python",
   "pygments_lexer": "ipython3",
   "version": "3.8.8"
  }
 },
 "nbformat": 4,
 "nbformat_minor": 5
}
