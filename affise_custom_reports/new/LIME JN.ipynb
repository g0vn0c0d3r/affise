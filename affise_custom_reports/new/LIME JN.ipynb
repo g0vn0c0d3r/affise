{
 "cells": [
  {
   "cell_type": "code",
   "execution_count": 1,
   "id": "0c32eb02",
   "metadata": {},
   "outputs": [],
   "source": [
    "from Advertiser import *\n",
    "import plotly.express as px\n",
    "import datetime\n",
    "import matplotlib.pyplot as plt\n",
    "import warnings\n",
    "warnings.filterwarnings('ignore')"
   ]
  },
  {
   "cell_type": "code",
   "execution_count": 2,
   "id": "2b853606",
   "metadata": {},
   "outputs": [],
   "source": [
    "LIME = '5a558391c3ebae42008b4567'\n",
    "KONGA = '5a558967c3ebae43008b4567'"
   ]
  },
  {
   "cell_type": "code",
   "execution_count": 3,
   "id": "d4d53d8d",
   "metadata": {},
   "outputs": [],
   "source": [
    "lime = Advertiser(adv_id=LIME)\n",
    "konga = Advertiser(adv_id=KONGA)"
   ]
  },
  {
   "cell_type": "code",
   "execution_count": 4,
   "id": "b6a2e2f1",
   "metadata": {},
   "outputs": [],
   "source": [
    "start_date = '2021-08-01'\n",
    "end_date = str(datetime.date.today())"
   ]
  },
  {
   "cell_type": "code",
   "execution_count": null,
   "id": "66c26333",
   "metadata": {
    "pycharm": {
     "is_executing": true
    }
   },
   "outputs": [],
   "source": [
    "# создаем датафрейм для LIME\n",
    "lime_df = lime.create_data_frame(date_from=start_date, date_to=end_date)"
   ]
  },
  {
   "cell_type": "code",
   "execution_count": null,
   "id": "e0e3690a",
   "metadata": {
    "pycharm": {
     "is_executing": true
    }
   },
   "outputs": [],
   "source": [
    "lime_partners_general_stats = get_general_stats(lime_df, index='date')\n",
    "lime_partners_general_stats"
   ]
  },
  {
   "cell_type": "code",
   "execution_count": null,
   "id": "2ccf6c39",
   "metadata": {
    "pycharm": {
     "is_executing": true
    }
   },
   "outputs": [],
   "source": [
    "fig = px.bar(lime_partners_general_stats[lime_partners_general_stats.columns.to_list()])\n",
    "fig.show()"
   ]
  },
  {
   "cell_type": "code",
   "execution_count": null,
   "id": "8af8d4af",
   "metadata": {
    "pycharm": {
     "is_executing": true
    }
   },
   "outputs": [],
   "source": [
    "lime_issued_loans_by_partners = get_loans_by_aff(lime_df, index='date')\n",
    "# lime_issued_loans_by_partners"
   ]
  },
  {
   "cell_type": "code",
   "execution_count": null,
   "id": "a289dc6e",
   "metadata": {
    "pycharm": {
     "is_executing": true
    }
   },
   "outputs": [],
   "source": [
    "fig = px.bar(lime_issued_loans_by_partners[lime_issued_loans_by_partners.columns.to_list()])\n",
    "fig.show()"
   ]
  },
  {
   "cell_type": "code",
   "execution_count": null,
   "id": "747a8f9e",
   "metadata": {
    "pycharm": {
     "is_executing": true
    }
   },
   "outputs": [],
   "source": [
    "# rafinad = lime_df[(lime_df['partner'] == 'RAFINAD') & (lime_df['loan_category'] != 'reg')]\n",
    "# rafinad = rafinad[rafinad['sub2'] == '672']\n",
    "# rafinad = rafinad.pivot_table(index='month', columns='loan_category', values='goal', aggfunc='count', fill_value=0)\n",
    "# rafinad['RLS%'] = (rafinad['rep'] / (rafinad['new'] + rafinad['rep'])).round(2)"
   ]
  },
  {
   "cell_type": "code",
   "execution_count": null,
   "id": "d7dbcdb0",
   "metadata": {
    "pycharm": {
     "is_executing": true
    }
   },
   "outputs": [],
   "source": [
    "# rafinad"
   ]
  },
  {
   "cell_type": "code",
   "execution_count": null,
   "id": "d857cde8",
   "metadata": {
    "pycharm": {
     "is_executing": true
    }
   },
   "outputs": [],
   "source": [
    "lime_df.head()"
   ]
  },
  {
   "cell_type": "code",
   "execution_count": null,
   "id": "f12c61ca",
   "metadata": {
    "pycharm": {
     "is_executing": true
    }
   },
   "outputs": [],
   "source": [
    "lime = lime_df[lime_df['goal'] != 'registration']"
   ]
  },
  {
   "cell_type": "code",
   "execution_count": null,
   "id": "a9a0a299",
   "metadata": {
    "pycharm": {
     "is_executing": true
    }
   },
   "outputs": [],
   "source": [
    "lime.sample(20)"
   ]
  },
  {
   "cell_type": "code",
   "execution_count": null,
   "id": "e0aa5c7a",
   "metadata": {
    "pycharm": {
     "is_executing": true
    }
   },
   "outputs": [],
   "source": [
    "lime = lime.pivot_table(index=['partner', 'sub3'], columns='loan_category', values='goal', aggfunc='count')"
   ]
  },
  {
   "cell_type": "code",
   "execution_count": null,
   "id": "31990f6f",
   "metadata": {
    "pycharm": {
     "is_executing": true
    }
   },
   "outputs": [],
   "source": [
    "lime['all'] = lime['new'] + lime['rep']\n",
    "\n",
    "lime['rls%'] = (lime['rep'] / lime['all']).round(2)"
   ]
  },
  {
   "cell_type": "code",
   "execution_count": null,
   "id": "4fcf28c8",
   "metadata": {
    "pycharm": {
     "is_executing": true
    }
   },
   "outputs": [],
   "source": [
    "lime.sort_values('all', ascending=False).to_csv('webs.csv')"
   ]
  },
  {
   "cell_type": "code",
   "execution_count": null,
   "id": "2cc1bc5a",
   "metadata": {
    "pycharm": {
     "is_executing": true
    }
   },
   "outputs": [],
   "source": [
    "get_aff_web_stats(lime_df, aff='87', web='0', index='date')"
   ]
  },
  {
   "cell_type": "code",
   "execution_count": null,
   "id": "a461c44f",
   "metadata": {
    "pycharm": {
     "is_executing": true
    }
   },
   "outputs": [],
   "source": []
  }
 ],
 "metadata": {
  "kernelspec": {
   "display_name": "Python 3 (ipykernel)",
   "language": "python",
   "name": "python3"
  },
  "language_info": {
   "codemirror_mode": {
    "name": "ipython",
    "version": 3
   },
   "file_extension": ".py",
   "mimetype": "text/x-python",
   "name": "python",
   "nbconvert_exporter": "python",
   "pygments_lexer": "ipython3",
   "version": "3.8.6"
  }
 },
 "nbformat": 4,
 "nbformat_minor": 5
}