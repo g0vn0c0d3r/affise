{
 "cells": [
  {
   "cell_type": "code",
   "execution_count": 1,
   "id": "0c32eb02",
   "metadata": {},
   "outputs": [],
   "source": [
    "from Advertiser import *\n",
    "import datetime"
   ]
  },
  {
   "cell_type": "code",
   "execution_count": 2,
   "id": "2b853606",
   "metadata": {},
   "outputs": [],
   "source": [
    "LIME = '5a558391c3ebae42008b4567'\n",
    "KONGA = '5a558967c3ebae43008b4567'"
   ]
  },
  {
   "cell_type": "code",
   "execution_count": 3,
   "id": "d4d53d8d",
   "metadata": {},
   "outputs": [],
   "source": [
    "lime = Advertiser(adv_id=LIME)\n",
    "konga = Advertiser(adv_id=KONGA)"
   ]
  },
  {
   "cell_type": "code",
   "execution_count": 4,
   "id": "b6a2e2f1",
   "metadata": {},
   "outputs": [],
   "source": [
    "start_date = '2021-01-01'\n",
    "end_date = str(datetime.date.today())"
   ]
  },
  {
   "cell_type": "code",
   "execution_count": null,
   "id": "2cee90d1",
   "metadata": {},
   "outputs": [],
   "source": [
    "# доступные параметры для index: date, week, month, year\n",
    "lime = lime.general_stats(date_from=start_date, date_to=end_date, index='month')"
   ]
  },
  {
   "cell_type": "code",
   "execution_count": null,
   "id": "72814185",
   "metadata": {},
   "outputs": [],
   "source": [
    "'''\n",
    "reg - registrations\n",
    "new - new loans\n",
    "old - repeated loans\n",
    "all - all loans (new + old)\n",
    "ARn% - approve rate reg->new\n",
    "ARo% - approve rate reg->old\n",
    "RLS% - repeated loans share\n",
    "costs_new - costs of new loans\n",
    "costs_old - costs of old loans\n",
    "costs_total - costs of oll loans\n",
    "CPAn - avg.cost of new loan\n",
    "CPAo - avg.cost of old loan\n",
    "CPAr - real avg.cost of new loan (costs_total / new)\n",
    "'''\n",
    "lime"
   ]
  }
 ],
 "metadata": {
  "kernelspec": {
   "display_name": "Python 3",
   "language": "python",
   "name": "python3"
  },
  "language_info": {
   "codemirror_mode": {
    "name": "ipython",
    "version": 3
   },
   "file_extension": ".py",
   "mimetype": "text/x-python",
   "name": "python",
   "nbconvert_exporter": "python",
   "pygments_lexer": "ipython3",
   "version": "3.8.8"
  }
 },
 "nbformat": 4,
 "nbformat_minor": 5
}
