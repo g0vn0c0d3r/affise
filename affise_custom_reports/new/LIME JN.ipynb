{
 "cells": [
  {
   "cell_type": "code",
   "execution_count": 1,
   "id": "0c32eb02",
   "metadata": {},
   "outputs": [],
   "source": [
    "from Advertiser import *"
   ]
  },
  {
   "cell_type": "code",
   "execution_count": 2,
   "id": "2b853606",
   "metadata": {},
   "outputs": [],
   "source": [
    "LIME = '5a558391c3ebae42008b4567'\n",
    "KONGA = '5a558967c3ebae43008b4567'"
   ]
  },
  {
   "cell_type": "code",
   "execution_count": 3,
   "id": "d4d53d8d",
   "metadata": {},
   "outputs": [],
   "source": [
    "lime = Advertiser(adv_id=LIME)\n",
    "konga = Advertiser(adv_id=KONGA)"
   ]
  },
  {
   "cell_type": "code",
   "execution_count": 4,
   "id": "b6a2e2f1",
   "metadata": {},
   "outputs": [],
   "source": [
    "start_date = '2021-01-04'\n",
    "end_date = str(datetime.date.today())"
   ]
  },
  {
   "cell_type": "code",
   "execution_count": 5,
   "id": "66c26333",
   "metadata": {},
   "outputs": [],
   "source": [
    "lime_df = lime.create_data_frame(date_from=start_date, date_to=end_date)"
   ]
  },
  {
   "cell_type": "code",
   "execution_count": 8,
   "id": "5a47aeec",
   "metadata": {},
   "outputs": [
    {
     "data": {
      "text/html": [
       "<div>\n",
       "<style scoped>\n",
       "    .dataframe tbody tr th:only-of-type {\n",
       "        vertical-align: middle;\n",
       "    }\n",
       "\n",
       "    .dataframe tbody tr th {\n",
       "        vertical-align: top;\n",
       "    }\n",
       "\n",
       "    .dataframe thead th {\n",
       "        text-align: right;\n",
       "    }\n",
       "</style>\n",
       "<table border=\"1\" class=\"dataframe\">\n",
       "  <thead>\n",
       "    <tr style=\"text-align: right;\">\n",
       "      <th>loan_category</th>\n",
       "      <th>reg</th>\n",
       "      <th>new</th>\n",
       "      <th>rep</th>\n",
       "      <th>total</th>\n",
       "      <th>ARn%</th>\n",
       "      <th>ARr%</th>\n",
       "      <th>RLS%</th>\n",
       "      <th>costs_new</th>\n",
       "      <th>costs_rep</th>\n",
       "      <th>costs_total</th>\n",
       "      <th>CPAn</th>\n",
       "      <th>CPAo</th>\n",
       "      <th>CPAr</th>\n",
       "    </tr>\n",
       "    <tr>\n",
       "      <th>month</th>\n",
       "      <th></th>\n",
       "      <th></th>\n",
       "      <th></th>\n",
       "      <th></th>\n",
       "      <th></th>\n",
       "      <th></th>\n",
       "      <th></th>\n",
       "      <th></th>\n",
       "      <th></th>\n",
       "      <th></th>\n",
       "      <th></th>\n",
       "      <th></th>\n",
       "      <th></th>\n",
       "    </tr>\n",
       "  </thead>\n",
       "  <tbody>\n",
       "    <tr>\n",
       "      <th>1</th>\n",
       "      <td>31566</td>\n",
       "      <td>7443</td>\n",
       "      <td>2804</td>\n",
       "      <td>10247</td>\n",
       "      <td>0.24</td>\n",
       "      <td>0.09</td>\n",
       "      <td>0.27</td>\n",
       "      <td>20008975</td>\n",
       "      <td>1402000</td>\n",
       "      <td>21410975</td>\n",
       "      <td>2688</td>\n",
       "      <td>500</td>\n",
       "      <td>2876</td>\n",
       "    </tr>\n",
       "    <tr>\n",
       "      <th>2</th>\n",
       "      <td>33271</td>\n",
       "      <td>7242</td>\n",
       "      <td>3191</td>\n",
       "      <td>10433</td>\n",
       "      <td>0.22</td>\n",
       "      <td>0.10</td>\n",
       "      <td>0.31</td>\n",
       "      <td>19601700</td>\n",
       "      <td>1595500</td>\n",
       "      <td>21197200</td>\n",
       "      <td>2706</td>\n",
       "      <td>500</td>\n",
       "      <td>2926</td>\n",
       "    </tr>\n",
       "    <tr>\n",
       "      <th>3</th>\n",
       "      <td>38159</td>\n",
       "      <td>9652</td>\n",
       "      <td>4202</td>\n",
       "      <td>13854</td>\n",
       "      <td>0.25</td>\n",
       "      <td>0.11</td>\n",
       "      <td>0.30</td>\n",
       "      <td>27160700</td>\n",
       "      <td>2101000</td>\n",
       "      <td>29261700</td>\n",
       "      <td>2813</td>\n",
       "      <td>500</td>\n",
       "      <td>3031</td>\n",
       "    </tr>\n",
       "    <tr>\n",
       "      <th>4</th>\n",
       "      <td>51632</td>\n",
       "      <td>12469</td>\n",
       "      <td>5652</td>\n",
       "      <td>18121</td>\n",
       "      <td>0.24</td>\n",
       "      <td>0.11</td>\n",
       "      <td>0.31</td>\n",
       "      <td>35478800</td>\n",
       "      <td>2826000</td>\n",
       "      <td>38304800</td>\n",
       "      <td>2845</td>\n",
       "      <td>500</td>\n",
       "      <td>3072</td>\n",
       "    </tr>\n",
       "    <tr>\n",
       "      <th>5</th>\n",
       "      <td>38732</td>\n",
       "      <td>9399</td>\n",
       "      <td>4675</td>\n",
       "      <td>14074</td>\n",
       "      <td>0.24</td>\n",
       "      <td>0.12</td>\n",
       "      <td>0.33</td>\n",
       "      <td>28073500</td>\n",
       "      <td>2337500</td>\n",
       "      <td>30411000</td>\n",
       "      <td>2986</td>\n",
       "      <td>500</td>\n",
       "      <td>3235</td>\n",
       "    </tr>\n",
       "  </tbody>\n",
       "</table>\n",
       "</div>"
      ],
      "text/plain": [
       "loan_category    reg    new   rep  total  ARn%  ARr%  RLS%  costs_new  \\\n",
       "month                                                                   \n",
       "1              31566   7443  2804  10247  0.24  0.09  0.27   20008975   \n",
       "2              33271   7242  3191  10433  0.22  0.10  0.31   19601700   \n",
       "3              38159   9652  4202  13854  0.25  0.11  0.30   27160700   \n",
       "4              51632  12469  5652  18121  0.24  0.11  0.31   35478800   \n",
       "5              38732   9399  4675  14074  0.24  0.12  0.33   28073500   \n",
       "\n",
       "loan_category  costs_rep  costs_total  CPAn  CPAo  CPAr  \n",
       "month                                                    \n",
       "1                1402000     21410975  2688   500  2876  \n",
       "2                1595500     21197200  2706   500  2926  \n",
       "3                2101000     29261700  2813   500  3031  \n",
       "4                2826000     38304800  2845   500  3072  \n",
       "5                2337500     30411000  2986   500  3235  "
      ]
     },
     "execution_count": 8,
     "metadata": {},
     "output_type": "execute_result"
    }
   ],
   "source": [
    "lime_partners_general_stats = get_general_stats(lime_df, pid='0', wid='0', index='month')\n",
    "lime_partners_general_stats"
   ]
  },
  {
   "cell_type": "code",
   "execution_count": 9,
   "id": "1b765e1b",
   "metadata": {},
   "outputs": [
    {
     "data": {
      "image/png": "[encoded data removed]",
      "text/plain": [
       "<Figure size 936x648 with 1 Axes>"
      ]
     },
     "metadata": {
      "needs_background": "light"
     },
     "output_type": "display_data"
    }
   ],
   "source": [
    "lime_partners_general_stats[['total']].plot(kind='bar', figsize=(13, 9));\n",
    "# x_range = lime_partners_general_stats.index.to_list()\n",
    "# plt.xticks(x_range);"
   ]
  },
  {
   "cell_type": "code",
   "execution_count": null,
   "id": "deb28a3b",
   "metadata": {},
   "outputs": [],
   "source": []
  },
  {
   "cell_type": "code",
   "execution_count": null,
   "id": "b5615c83",
   "metadata": {},
   "outputs": [],
   "source": []
  }
 ],
 "metadata": {
  "kernelspec": {
   "display_name": "Python 3",
   "language": "python",
   "name": "python3"
  },
  "language_info": {
   "codemirror_mode": {
    "name": "ipython",
    "version": 3
   },
   "file_extension": ".py",
   "mimetype": "text/x-python",
   "name": "python",
   "nbconvert_exporter": "python",
   "pygments_lexer": "ipython3",
   "version": "3.8.6"
  }
 },
 "nbformat": 4,
 "nbformat_minor": 5
}
