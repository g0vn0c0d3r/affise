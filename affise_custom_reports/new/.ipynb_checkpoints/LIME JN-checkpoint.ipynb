{
 "cells": [
  {
   "cell_type": "code",
   "execution_count": 1,
   "id": "0c32eb02",
   "metadata": {},
   "outputs": [
    {
     "ename": "ModuleNotFoundError",
     "evalue": "No module named 'pandas'",
     "output_type": "error",
     "traceback": [
      "\u001b[0;31m---------------------------------------------------------------------------\u001b[0m",
      "\u001b[0;31mModuleNotFoundError\u001b[0m                       Traceback (most recent call last)",
      "\u001b[0;32m/var/folders/4x/xx2z6h596qbbjj3gmj6dlw_m0000gn/T/ipykernel_7099/1641740684.py\u001b[0m in \u001b[0;36m<module>\u001b[0;34m\u001b[0m\n\u001b[0;32m----> 1\u001b[0;31m \u001b[0;32mfrom\u001b[0m \u001b[0mAdvertiser\u001b[0m \u001b[0;32mimport\u001b[0m \u001b[0;34m*\u001b[0m\u001b[0;34m\u001b[0m\u001b[0;34m\u001b[0m\u001b[0m\n\u001b[0m\u001b[1;32m      2\u001b[0m \u001b[0;32mimport\u001b[0m \u001b[0mplotly\u001b[0m\u001b[0;34m.\u001b[0m\u001b[0mexpress\u001b[0m \u001b[0;32mas\u001b[0m \u001b[0mpx\u001b[0m\u001b[0;34m\u001b[0m\u001b[0;34m\u001b[0m\u001b[0m\n\u001b[1;32m      3\u001b[0m \u001b[0;32mimport\u001b[0m \u001b[0mdatetime\u001b[0m\u001b[0;34m\u001b[0m\u001b[0;34m\u001b[0m\u001b[0m\n\u001b[1;32m      4\u001b[0m \u001b[0;32mimport\u001b[0m \u001b[0mmatplotlib\u001b[0m\u001b[0;34m.\u001b[0m\u001b[0mpyplot\u001b[0m \u001b[0;32mas\u001b[0m \u001b[0mplt\u001b[0m\u001b[0;34m\u001b[0m\u001b[0;34m\u001b[0m\u001b[0m\n\u001b[1;32m      5\u001b[0m \u001b[0;32mimport\u001b[0m \u001b[0mwarnings\u001b[0m\u001b[0;34m\u001b[0m\u001b[0;34m\u001b[0m\u001b[0m\n",
      "\u001b[0;32m~/PycharmProjects/affise/affise_custom_reports/new/Advertiser.py\u001b[0m in \u001b[0;36m<module>\u001b[0;34m\u001b[0m\n\u001b[1;32m      1\u001b[0m \u001b[0;32mimport\u001b[0m \u001b[0mrequests\u001b[0m\u001b[0;34m\u001b[0m\u001b[0;34m\u001b[0m\u001b[0m\n\u001b[0;32m----> 2\u001b[0;31m \u001b[0;32mimport\u001b[0m \u001b[0mpandas\u001b[0m \u001b[0;32mas\u001b[0m \u001b[0mpd\u001b[0m\u001b[0;34m\u001b[0m\u001b[0;34m\u001b[0m\u001b[0m\n\u001b[0m\u001b[1;32m      3\u001b[0m \u001b[0;32mimport\u001b[0m \u001b[0mConfig\u001b[0m\u001b[0;34m\u001b[0m\u001b[0;34m\u001b[0m\u001b[0m\n\u001b[1;32m      4\u001b[0m \u001b[0;32mimport\u001b[0m \u001b[0mnumpy\u001b[0m \u001b[0;32mas\u001b[0m \u001b[0mnp\u001b[0m\u001b[0;34m\u001b[0m\u001b[0;34m\u001b[0m\u001b[0m\n\u001b[1;32m      5\u001b[0m \u001b[0;34m\u001b[0m\u001b[0m\n",
      "\u001b[0;31mModuleNotFoundError\u001b[0m: No module named 'pandas'"
     ]
    }
   ],
   "source": [
    "from Advertiser import *\n",
    "import plotly.express as px\n",
    "import datetime\n",
    "import matplotlib.pyplot as plt\n",
    "import warnings\n",
    "warnings.filterwarnings('ignore')"
   ]
  },
  {
   "cell_type": "code",
   "execution_count": null,
   "id": "2b853606",
   "metadata": {},
   "outputs": [],
   "source": [
    "LIME = '5a558391c3ebae42008b4567'\n",
    "KONGA = '5a558967c3ebae43008b4567'"
   ]
  },
  {
   "cell_type": "code",
   "execution_count": null,
   "id": "d4d53d8d",
   "metadata": {},
   "outputs": [],
   "source": [
    "lime = Advertiser(adv_id=LIME)\n",
    "konga = Advertiser(adv_id=KONGA)"
   ]
  },
  {
   "cell_type": "code",
   "execution_count": null,
   "id": "b6a2e2f1",
   "metadata": {},
   "outputs": [],
   "source": [
    "start_date = '2021-07-01'\n",
    "end_date = str(datetime.date.today())"
   ]
  },
  {
   "cell_type": "code",
   "execution_count": null,
   "id": "66c26333",
   "metadata": {},
   "outputs": [],
   "source": [
    "# создаем датафрейм для LIME\n",
    "lime_df = lime.create_data_frame(date_from=start_date, date_to=end_date)"
   ]
  },
  {
   "cell_type": "code",
   "execution_count": null,
   "id": "e0e3690a",
   "metadata": {},
   "outputs": [],
   "source": [
    "lime_partners_general_stats = get_general_stats(lime_df, index='date')\n",
    "lime_partners_general_stats"
   ]
  },
  {
   "cell_type": "code",
   "execution_count": null,
   "id": "2ccf6c39",
   "metadata": {},
   "outputs": [],
   "source": [
    "# fig = px.bar(lime_partners_general_stats[lime_partners_general_stats.columns.to_list()])\n",
    "# fig.show()"
   ]
  },
  {
   "cell_type": "code",
   "execution_count": null,
   "id": "8af8d4af",
   "metadata": {},
   "outputs": [],
   "source": [
    "# lime_issued_loans_by_partners = get_loans_by_aff(lime_df, index='date')\n",
    "# lime_issued_loans_by_partners"
   ]
  },
  {
   "cell_type": "code",
   "execution_count": null,
   "id": "a289dc6e",
   "metadata": {},
   "outputs": [],
   "source": [
    "# fig = px.bar(lime_issued_loans_by_partners[lime_issued_loans_by_partners.columns.to_list()])\n",
    "# fig.show()"
   ]
  },
  {
   "cell_type": "code",
   "execution_count": null,
   "id": "7d831030",
   "metadata": {},
   "outputs": [],
   "source": [
    "# get_aff_web_stats(lime_df, aff='34', web='0', index='date')"
   ]
  },
  {
   "cell_type": "code",
   "execution_count": null,
   "id": "8ef0aa3f",
   "metadata": {},
   "outputs": [],
   "source": [
    "# создаем датафрейм для KONGA\n",
    "konga_df = konga.create_data_frame(date_from=start_date, date_to=end_date)"
   ]
  },
  {
   "cell_type": "code",
   "execution_count": null,
   "id": "195b4412",
   "metadata": {},
   "outputs": [],
   "source": [
    "konga_partners_general_stats = get_general_stats(konga_df, index='date')\n",
    "konga_partners_general_stats"
   ]
  },
  {
   "cell_type": "code",
   "execution_count": null,
   "id": "94bfc392",
   "metadata": {
    "scrolled": false
   },
   "outputs": [],
   "source": [
    "# fig = px.bar(konga_partners_general_stats[konga_partners_general_stats.columns.to_list()])\n",
    "# fig.show()"
   ]
  },
  {
   "cell_type": "code",
   "execution_count": null,
   "id": "0b72ab65",
   "metadata": {},
   "outputs": [],
   "source": [
    "# lime_df.sample(20)"
   ]
  },
  {
   "cell_type": "code",
   "execution_count": null,
   "id": "e08b0d8b",
   "metadata": {},
   "outputs": [],
   "source": [
    "lime_df[lime_df['loan_category'] != 'reg']['weekday'].value_counts()"
   ]
  },
  {
   "cell_type": "code",
   "execution_count": null,
   "id": "79f803f5",
   "metadata": {},
   "outputs": [],
   "source": []
  }
 ],
 "metadata": {
  "kernelspec": {
   "display_name": "Python 3 (ipykernel)",
   "language": "python",
   "name": "python3"
  },
  "language_info": {
   "codemirror_mode": {
    "name": "ipython",
    "version": 3
   },
   "file_extension": ".py",
   "mimetype": "text/x-python",
   "name": "python",
   "nbconvert_exporter": "python",
   "pygments_lexer": "ipython3",
   "version": "3.8.10"
  }
 },
 "nbformat": 4,
 "nbformat_minor": 5
}
