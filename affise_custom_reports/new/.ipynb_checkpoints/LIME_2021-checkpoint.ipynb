{
 "cells": [
  {
   "cell_type": "code",
   "execution_count": 1,
   "id": "0c32eb02",
   "metadata": {},
   "outputs": [],
   "source": [
    "from Advertiser import *\n",
    "import plotly.express as px\n",
    "import datetime\n",
    "import matplotlib.pyplot as plt\n",
    "import warnings\n",
    "warnings.filterwarnings('ignore')"
   ]
  },
  {
   "cell_type": "code",
   "execution_count": 2,
   "id": "2b853606",
   "metadata": {},
   "outputs": [],
   "source": [
    "LIME = '5a558391c3ebae42008b4567'\n",
    "lime = Advertiser(adv_id=LIME)"
   ]
  },
  {
   "cell_type": "code",
   "execution_count": 3,
   "id": "1791b4df",
   "metadata": {},
   "outputs": [],
   "source": [
    "start_date = '2021-01-01'\n",
    "end_date = str(datetime.date.today())"
   ]
  },
  {
   "cell_type": "code",
   "execution_count": null,
   "id": "66c26333",
   "metadata": {
    "pycharm": {
     "is_executing": true
    }
   },
   "outputs": [],
   "source": [
    "# создаем датафрейм для LIME\n",
    "lime_df = lime.create_data_frame(date_from=start_date, date_to=end_date)"
   ]
  },
  {
   "cell_type": "code",
   "execution_count": null,
   "id": "e0e3690a",
   "metadata": {
    "pycharm": {
     "is_executing": true
    },
    "scrolled": false
   },
   "outputs": [],
   "source": [
    "lime_partners_general_stats = get_general_stats(lime_df, index='date')\n",
    "lime_partners_general_stats"
   ]
  },
  {
   "cell_type": "code",
   "execution_count": null,
   "id": "2ccf6c39",
   "metadata": {
    "pycharm": {
     "is_executing": true
    }
   },
   "outputs": [],
   "source": [
    "fig = px.bar(lime_partners_general_stats[lime_partners_general_stats.columns.to_list()])\n",
    "# fig.update_yaxes(range=(0.2, 0.3))\n",
    "fig.show()"
   ]
  },
  {
   "cell_type": "code",
   "execution_count": null,
   "id": "8af8d4af",
   "metadata": {
    "pycharm": {
     "is_executing": true
    }
   },
   "outputs": [],
   "source": [
    "lime_issued_loans_by_partners = get_loans_by_aff(lime_df, index='date')\n",
    "# lime_issued_loans_by_partners"
   ]
  },
  {
   "cell_type": "code",
   "execution_count": null,
   "id": "a289dc6e",
   "metadata": {
    "pycharm": {
     "is_executing": true
    },
    "scrolled": false
   },
   "outputs": [],
   "source": [
    "fig = px.bar(lime_issued_loans_by_partners[lime_issued_loans_by_partners.columns.to_list()])\n",
    "fig.show()"
   ]
  },
  {
   "cell_type": "code",
   "execution_count": null,
   "id": "f0ea1b8e",
   "metadata": {
    "pycharm": {
     "is_executing": true
    }
   },
   "outputs": [],
   "source": [
    "get_aff_web_stats(lime_df, aff='37', web='0', index='month')"
   ]
  },
  {
   "cell_type": "code",
   "execution_count": null,
   "id": "5ccf2acb",
   "metadata": {
    "pycharm": {
     "is_executing": true
    }
   },
   "outputs": [],
   "source": [
    "lime_df.query('partner_id == \"94\"').pivot_table(index='month', columns=['sub1', 'sub2'], \n",
    "                                                values='payouts', aggfunc='sum', fill_value=0)"
   ]
  },
  {
   "cell_type": "code",
   "execution_count": null,
   "id": "9e9553c5",
   "metadata": {
    "pycharm": {
     "is_executing": true
    }
   },
   "outputs": [],
   "source": [
    "lime = lime_df.pivot_table(index=['partner', 'sub3'], \n",
    "                           columns='loan_category', \n",
    "                           values='goal', \n",
    "                           aggfunc='count', fill_value=0).reset_index().sort_values(by='rep', ascending=False)"
   ]
  },
  {
   "cell_type": "code",
   "execution_count": null,
   "id": "be995b45",
   "metadata": {
    "pycharm": {
     "is_executing": true
    }
   },
   "outputs": [],
   "source": [
    "lime = lime[['partner', 'sub3', 'reg', 'new', 'rep']]\n",
    "\n",
    "lime['total'] = lime['new'] + lime['rep']\n",
    "lime['ARn'] = (lime['new'] / lime['reg']).round(2)\n",
    "lime['RLS'] = lime['rep'] / lime['total']"
   ]
  },
  {
   "cell_type": "code",
   "execution_count": null,
   "id": "ff03f836",
   "metadata": {
    "pycharm": {
     "is_executing": true
    }
   },
   "outputs": [],
   "source": [
    "lime.query('total >= 10 & (RLS > 0.5 | ARn > 0.4)').sort_values(by='total', ascending=False).to_csv('lime_octnov.csv')"
   ]
  },
  {
   "cell_type": "code",
   "execution_count": null,
   "id": "0f20b64c",
   "metadata": {
    "pycharm": {
     "is_executing": true
    }
   },
   "outputs": [],
   "source": [
    "get_aff_web_stats(lime_df, aff='29', web='47386', index='month')"
   ]
  },
  {
   "cell_type": "code",
   "execution_count": null,
   "id": "feb67a56",
   "metadata": {
    "pycharm": {
     "is_executing": true
    }
   },
   "outputs": [],
   "source": [
    "lime_df.query('loan_category == \"new\"').groupby(by='partner').agg({'goal': 'count'}).sort_values(by='goal', ascending=False).head(10)"
   ]
  },
  {
   "cell_type": "code",
   "execution_count": null,
   "id": "31bb9f83",
   "metadata": {
    "pycharm": {
     "is_executing": true
    }
   },
   "outputs": [],
   "source": [
    "guru = lime_df.query('partner == \"LEADS\" & loan_category != \"reg\"')\n",
    "guru = guru.pivot_table(index='month', columns='sub3', values='goal', aggfunc='count', margins=True, fill_value=0)\n",
    "\n",
    "guru = guru.sort_values(by='All', axis=1, ascending=False).reset_index()\n",
    "\n",
    "guru"
   ]
  },
  {
   "cell_type": "code",
   "execution_count": null,
   "id": "97854a82",
   "metadata": {
    "pycharm": {
     "is_executing": true
    }
   },
   "outputs": [],
   "source": [
    "lime_df.query('partner != \"LEADGID\"')"
   ]
  },
  {
   "cell_type": "code",
   "execution_count": null,
   "id": "2efd7ce5",
   "metadata": {
    "pycharm": {
     "is_executing": true
    }
   },
   "outputs": [],
   "source": [
    "get_general_stats(lime_df.query('partner != \"LEADGID\"'), index='month')"
   ]
  },
  {
   "cell_type": "code",
   "execution_count": null,
   "id": "04b53650",
   "metadata": {
    "pycharm": {
     "is_executing": true,
     "name": "#%%\n"
    }
   },
   "outputs": [],
   "source": [
    "get_general_stats(lime_df.query('partner == \"LEADGID\"'), index='month')"
   ]
  },
  {
   "cell_type": "code",
   "execution_count": null,
   "id": "e051c470",
   "metadata": {},
   "outputs": [],
   "source": [
    "lime.query('total >= 30 & (RLS > 0.5 | ARn > 0.4)').sort_values(by='rep', ascending=False)"
   ]
  }
 ],
 "metadata": {
  "kernelspec": {
   "display_name": "Python 3 (ipykernel)",
   "language": "python",
   "name": "python3"
  },
  "language_info": {
   "codemirror_mode": {
    "name": "ipython",
    "version": 3
   },
   "file_extension": ".py",
   "mimetype": "text/x-python",
   "name": "python",
   "nbconvert_exporter": "python",
   "pygments_lexer": "ipython3",
   "version": "3.9.9"
  }
 },
 "nbformat": 4,
 "nbformat_minor": 5
}
