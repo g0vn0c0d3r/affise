{
 "cells": [
  {
   "cell_type": "code",
   "execution_count": 1,
   "id": "0c32eb02",
   "metadata": {},
   "outputs": [],
   "source": [
    "from Advertiser import *\n",
    "import plotly.express as px\n",
    "import datetime\n",
    "import matplotlib.pyplot as plt\n",
    "import warnings\n",
    "warnings.filterwarnings('ignore')"
   ]
  },
  {
   "cell_type": "code",
   "execution_count": 2,
   "id": "2b853606",
   "metadata": {},
   "outputs": [],
   "source": [
    "LIME = '5a558391c3ebae42008b4567'\n",
    "lime = Advertiser(adv_id=LIME)"
   ]
  },
  {
   "cell_type": "code",
   "execution_count": 3,
   "id": "1791b4df",
   "metadata": {},
   "outputs": [],
   "source": [
    "start_date = '2021-12-01'\n",
    "# end_date = str(datetime.date.today())\n",
    "end_date = '2021-12-31'"
   ]
  },
  {
   "cell_type": "code",
   "execution_count": null,
   "id": "66c26333",
   "metadata": {
    "pycharm": {
     "is_executing": true
    }
   },
   "outputs": [],
   "source": [
    "# создаем датафрейм для LIME\n",
    "lime_df = lime.create_data_frame(date_from=start_date, date_to=end_date)"
   ]
  },
  {
   "cell_type": "code",
   "execution_count": null,
   "id": "e0e3690a",
   "metadata": {
    "pycharm": {
     "is_executing": true
    },
    "scrolled": false
   },
   "outputs": [],
   "source": [
    "lime_partners_general_stats = get_general_stats(lime_df, index='date')\n",
    "lime_partners_general_stats"
   ]
  },
  {
   "cell_type": "code",
   "execution_count": null,
   "id": "2ccf6c39",
   "metadata": {
    "pycharm": {
     "is_executing": true
    }
   },
   "outputs": [],
   "source": [
    "fig = px.bar(lime_partners_general_stats[['new', 'rep']][lime_partners_general_stats[['new', 'rep']].columns.to_list()])\n",
    "# fig.update_yaxes(range=(5000, 15000))\n",
    "fig.show()"
   ]
  },
  {
   "cell_type": "code",
   "execution_count": null,
   "id": "8af8d4af",
   "metadata": {
    "pycharm": {
     "is_executing": true
    }
   },
   "outputs": [],
   "source": [
    "lime_issued_loans_by_partners = get_loans_by_aff(lime_df, index='date')\n",
    "# lime_issued_loans_by_partners"
   ]
  },
  {
   "cell_type": "code",
   "execution_count": null,
   "id": "a289dc6e",
   "metadata": {
    "pycharm": {
     "is_executing": true
    },
    "scrolled": false
   },
   "outputs": [],
   "source": [
    "fig = px.bar(lime_issued_loans_by_partners[lime_issued_loans_by_partners.columns.to_list()])\n",
    "fig.show()"
   ]
  },
  {
   "cell_type": "code",
   "execution_count": null,
   "id": "f0ea1b8e",
   "metadata": {
    "pycharm": {
     "is_executing": true
    },
    "scrolled": false
   },
   "outputs": [],
   "source": [
    "get_aff_web_stats(lime_df, aff='82', web='2700', index='date')"
   ]
  },
  {
   "cell_type": "code",
   "execution_count": null,
   "id": "5ccf2acb",
   "metadata": {
    "pycharm": {
     "is_executing": true
    }
   },
   "outputs": [],
   "source": [
    "# lime_df.query('partner_id == \"94\"').pivot_table(index='month', columns=['sub1', 'sub2'], \n",
    "#                                                 values='payouts', aggfunc='sum', fill_value=0)"
   ]
  },
  {
   "cell_type": "code",
   "execution_count": null,
   "id": "9e9553c5",
   "metadata": {
    "pycharm": {
     "is_executing": true
    }
   },
   "outputs": [],
   "source": [
    "lime = lime_df.pivot_table(index=['partner', 'sub3'], \n",
    "                           columns='loan_category', \n",
    "                           values='goal', \n",
    "                           aggfunc='count', fill_value=0).reset_index().sort_values(by='rep', ascending=False)"
   ]
  },
  {
   "cell_type": "code",
   "execution_count": null,
   "id": "be995b45",
   "metadata": {
    "pycharm": {
     "is_executing": true
    }
   },
   "outputs": [],
   "source": [
    "lime = lime[['partner', 'sub3', 'reg', 'new', 'rep']]\n",
    "\n",
    "lime['total'] = lime['new'] + lime['rep']\n",
    "lime['ARn'] = (lime['new'] / lime['reg']).round(2)\n",
    "lime['RLS'] = lime['rep'] / lime['total']"
   ]
  },
  {
   "cell_type": "code",
   "execution_count": null,
   "id": "ff03f836",
   "metadata": {
    "pycharm": {
     "is_executing": true
    }
   },
   "outputs": [],
   "source": [
    "# lime.query('total >= 10 & (RLS > 0.5 | ARn > 0.4)').sort_values(by='total', ascending=False)"
   ]
  },
  {
   "cell_type": "code",
   "execution_count": null,
   "id": "0f20b64c",
   "metadata": {
    "pycharm": {
     "is_executing": true
    }
   },
   "outputs": [],
   "source": [
    "get_aff_web_stats(lime_df, aff='34', web='2024', index='month')"
   ]
  },
  {
   "cell_type": "code",
   "execution_count": null,
   "id": "feb67a56",
   "metadata": {
    "pycharm": {
     "is_executing": true
    }
   },
   "outputs": [],
   "source": [
    "# lime_df.query('loan_category == \"new\"').groupby(by='partner').agg({'goal': 'count'}).sort_values(by='goal', ascending=False).head(10)"
   ]
  },
  {
   "cell_type": "code",
   "execution_count": null,
   "id": "31bb9f83",
   "metadata": {
    "pycharm": {
     "is_executing": true
    }
   },
   "outputs": [],
   "source": [
    "# guru = lime_df.query('partner == \"LEADS\" & loan_category != \"reg\"')\n",
    "# guru = guru.pivot_table(index='month', columns='sub3', values='goal', aggfunc='count', margins=True, fill_value=0)\n",
    "\n",
    "# guru = guru.sort_values(by='All', axis=1, ascending=False).reset_index()\n",
    "\n",
    "# guru"
   ]
  },
  {
   "cell_type": "code",
   "execution_count": null,
   "id": "e051c470",
   "metadata": {},
   "outputs": [],
   "source": [
    "lime.query('total >= 20 & (RLS > 0.5)').sort_values(by='RLS', ascending=False)"
   ]
  },
  {
   "cell_type": "code",
   "execution_count": null,
   "id": "15059da9",
   "metadata": {},
   "outputs": [],
   "source": [
    "payouts = lime_df.query('loan_category == \"new\"')\n",
    "payouts = payouts.groupby(by=['partner', 'sub3'])['goal'].count().reset_index().sort_values('goal', ascending=False)\n",
    "\n",
    "payouts.query('goal > 49').to_csv('bets.csv')"
   ]
  },
  {
   "cell_type": "code",
   "execution_count": null,
   "id": "f6112b86",
   "metadata": {},
   "outputs": [],
   "source": [
    "lime_df.query('loan_category == \"new\"')['partner'].value_counts()"
   ]
  },
  {
   "cell_type": "code",
   "execution_count": null,
   "id": "5740f6ac",
   "metadata": {},
   "outputs": [],
   "source": [
    "lime_df['payouts'].value_counts()"
   ]
  },
  {
   "cell_type": "code",
   "execution_count": null,
   "id": "265eb922",
   "metadata": {},
   "outputs": [],
   "source": [
    "# lime_df.to_csv('lime_2021_final.csv')"
   ]
  },
  {
   "cell_type": "code",
   "execution_count": null,
   "id": "86a4c624",
   "metadata": {},
   "outputs": [],
   "source": [
    "# lime_df.query('payouts != 4000 and payouts != 0 and payouts != 500').groupby('date').agg('payouts').mean()"
   ]
  },
  {
   "cell_type": "code",
   "execution_count": null,
   "id": "63555f3d",
   "metadata": {},
   "outputs": [],
   "source": [
    "lime_df.query('payouts != 4000 and payouts != 0 and payouts != 500')['payouts'].count()"
   ]
  },
  {
   "cell_type": "code",
   "execution_count": null,
   "id": "5a7d026d",
   "metadata": {},
   "outputs": [],
   "source": [
    "lime_df.query('payouts == 4000')['payouts'].mean()"
   ]
  },
  {
   "cell_type": "code",
   "execution_count": null,
   "id": "ef5f82c7",
   "metadata": {},
   "outputs": [],
   "source": [
    "lime_df.query('payouts == 4000')['payouts'].count()"
   ]
  },
  {
   "cell_type": "code",
   "execution_count": null,
   "id": "8bea9ae1",
   "metadata": {},
   "outputs": [],
   "source": [
    "partners = ['CLICK2MONEY']\n",
    "\n",
    "topWeb = lime_df.query('loan_category == \"new\" & partner in @partners')\n",
    "topWeb = topWeb.groupby(by=['month', 'partner', 'sub3']).agg({'goal': 'count'}).reset_index()\n",
    "topWeb.rename(columns={'sub3': 'web', 'goal': 'conv'}, inplace=True)"
   ]
  },
  {
   "cell_type": "code",
   "execution_count": null,
   "id": "56c26e78",
   "metadata": {},
   "outputs": [],
   "source": [
    "topWeb.sort_values(by='conv', ascending=False).query('conv >= 50')"
   ]
  },
  {
   "cell_type": "code",
   "execution_count": null,
   "id": "6fa568f1",
   "metadata": {},
   "outputs": [],
   "source": [
    "topWeb.query('500 <= conv').sort_values(by='conv', ascending=False).describe()"
   ]
  },
  {
   "cell_type": "code",
   "execution_count": null,
   "id": "9c3d9de6",
   "metadata": {},
   "outputs": [],
   "source": [
    "topWeb1 = lime_df.query('loan_category == \"new\" & partner in @partners')\n",
    "topWeb1['payouts'].describe()"
   ]
  },
  {
   "cell_type": "code",
   "execution_count": null,
   "id": "723665e6",
   "metadata": {},
   "outputs": [],
   "source": [
    "topWeb.query('conv >= 100')['conv'].sum()"
   ]
  },
  {
   "cell_type": "code",
   "execution_count": null,
   "id": "e7b4bbb4",
   "metadata": {},
   "outputs": [],
   "source": [
    "topWeb.query('conv < 100')['conv'].sum()"
   ]
  },
  {
   "cell_type": "code",
   "execution_count": null,
   "id": "b45c6927",
   "metadata": {},
   "outputs": [],
   "source": []
  }
 ],
 "metadata": {
  "kernelspec": {
   "display_name": "Python 3 (ipykernel)",
   "language": "python",
   "name": "python3"
  },
  "language_info": {
   "codemirror_mode": {
    "name": "ipython",
    "version": 3
   },
   "file_extension": ".py",
   "mimetype": "text/x-python",
   "name": "python",
   "nbconvert_exporter": "python",
   "pygments_lexer": "ipython3",
   "version": "3.9.9"
  }
 },
 "nbformat": 4,
 "nbformat_minor": 5
}
