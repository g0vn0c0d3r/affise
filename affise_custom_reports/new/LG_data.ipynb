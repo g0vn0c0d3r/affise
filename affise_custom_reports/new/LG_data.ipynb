{
 "cells": [
  {
   "cell_type": "code",
   "execution_count": 1,
   "outputs": [],
   "source": [
    "import requests\n",
    "import pandas as pd"
   ],
   "metadata": {
    "collapsed": false,
    "pycharm": {
     "name": "#%%\n"
    }
   }
  },
  {
   "cell_type": "code",
   "execution_count": 2,
   "outputs": [],
   "source": [
    "date_from = '2021-08-01'\n",
    "date_to = '2021-10-31'\n",
    "\n",
    "req_url = f'https://leadgid.api.hasoffers.com/Apiv3/json?api_key=4dc79c63460150a918972cf84c9c4557ff0d063b1252d267fe50f9fcb5abf127&Target=Affiliate_Report&Method=getStats&fields[]=Stat.date&fields[]=Stat.affiliate_info3&fields[]=Stat.affiliate_info2&fields[]=Stat.affiliate_info1&fields[]=Stat.payout&fields[]=Stat.clicks&fields[]=Stat.offer_id&fields[]=Offer.name&filters[Stat.date][conditional]=BETWEEN&filters[Stat.date][values][]={date_from}&filters[Stat.date][values][]={date_to}'\n",
    "req = requests.get(req_url).json()"
   ],
   "metadata": {
    "collapsed": false,
    "pycharm": {
     "name": "#%%\n"
    }
   }
  },
  {
   "cell_type": "code",
   "execution_count": 3,
   "outputs": [],
   "source": [
    "conversion_list = []\n",
    "columns = ['date', 'offer_name', 'offer_id', 'sub1', 'sub2', 'sub3', 'payout', 'clicks']\n",
    "\n",
    "for item in req['response']['data']['data']:\n",
    "    date = item['Stat']['date']\n",
    "    offer_name = item['Offer']['name']\n",
    "    offer_id = item['Stat']['offer_id']\n",
    "    sub1 = item['Stat']['affiliate_info1']\n",
    "    sub2 = item['Stat']['affiliate_info2']\n",
    "    sub3 = item['Stat']['affiliate_info3']\n",
    "    payout = item['Stat']['payout']\n",
    "    clicks = item['Stat']['clicks']\n",
    "\n",
    "\n",
    "    conversion_list.append([date, offer_name, offer_id, sub1, sub2, sub3, payout, clicks])"
   ],
   "metadata": {
    "collapsed": false,
    "pycharm": {
     "name": "#%%\n"
    }
   }
  },
  {
   "cell_type": "code",
   "execution_count": 4,
   "outputs": [],
   "source": [
    "# conversion_list"
   ],
   "metadata": {
    "collapsed": false,
    "pycharm": {
     "name": "#%%\n"
    }
   }
  },
  {
   "cell_type": "code",
   "execution_count": 5,
   "outputs": [
    {
     "name": "stderr",
     "output_type": "stream",
     "text": [
      "/var/folders/4x/xx2z6h596qbbjj3gmj6dlw_m0000gn/T/ipykernel_75538/3143555093.py:6: FutureWarning: Series.dt.weekofyear and Series.dt.week have been deprecated.  Please use Series.dt.isocalendar().week instead.\n",
      "  df['week'] = df['date'].dt.week\n"
     ]
    },
    {
     "data": {
      "text/plain": "        date                   offer_name offer_id sub1 sub2 sub3   payout  \\\n0 2021-08-01  VIVA деньги - онлайн выдача     5141  ppp            19200.0   \n1 2021-08-01    ТУРБОЗАЙМ - Выданный займ     2577   sm            11250.0   \n2 2021-08-01    Webbankir - выданный заём     3127   sm             5850.0   \n3 2021-08-01             Credit7 - выдача     4470   sm             6600.0   \n4 2021-08-01         BelkaCredit - выдача     4472   sm             5760.0   \n\n   clicks    EPC  week  \n0     475  40.42    30  \n1     125  90.00    30  \n2     194  30.15    30  \n3     309  21.36    30  \n4     181  31.82    30  ",
      "text/html": "<div>\n<style scoped>\n    .dataframe tbody tr th:only-of-type {\n        vertical-align: middle;\n    }\n\n    .dataframe tbody tr th {\n        vertical-align: top;\n    }\n\n    .dataframe thead th {\n        text-align: right;\n    }\n</style>\n<table border=\"1\" class=\"dataframe\">\n  <thead>\n    <tr style=\"text-align: right;\">\n      <th></th>\n      <th>date</th>\n      <th>offer_name</th>\n      <th>offer_id</th>\n      <th>sub1</th>\n      <th>sub2</th>\n      <th>sub3</th>\n      <th>payout</th>\n      <th>clicks</th>\n      <th>EPC</th>\n      <th>week</th>\n    </tr>\n  </thead>\n  <tbody>\n    <tr>\n      <th>0</th>\n      <td>2021-08-01</td>\n      <td>VIVA деньги - онлайн выдача</td>\n      <td>5141</td>\n      <td>ppp</td>\n      <td></td>\n      <td></td>\n      <td>19200.0</td>\n      <td>475</td>\n      <td>40.42</td>\n      <td>30</td>\n    </tr>\n    <tr>\n      <th>1</th>\n      <td>2021-08-01</td>\n      <td>ТУРБОЗАЙМ - Выданный займ</td>\n      <td>2577</td>\n      <td>sm</td>\n      <td></td>\n      <td></td>\n      <td>11250.0</td>\n      <td>125</td>\n      <td>90.00</td>\n      <td>30</td>\n    </tr>\n    <tr>\n      <th>2</th>\n      <td>2021-08-01</td>\n      <td>Webbankir - выданный заём</td>\n      <td>3127</td>\n      <td>sm</td>\n      <td></td>\n      <td></td>\n      <td>5850.0</td>\n      <td>194</td>\n      <td>30.15</td>\n      <td>30</td>\n    </tr>\n    <tr>\n      <th>3</th>\n      <td>2021-08-01</td>\n      <td>Credit7 - выдача</td>\n      <td>4470</td>\n      <td>sm</td>\n      <td></td>\n      <td></td>\n      <td>6600.0</td>\n      <td>309</td>\n      <td>21.36</td>\n      <td>30</td>\n    </tr>\n    <tr>\n      <th>4</th>\n      <td>2021-08-01</td>\n      <td>BelkaCredit - выдача</td>\n      <td>4472</td>\n      <td>sm</td>\n      <td></td>\n      <td></td>\n      <td>5760.0</td>\n      <td>181</td>\n      <td>31.82</td>\n      <td>30</td>\n    </tr>\n  </tbody>\n</table>\n</div>"
     },
     "execution_count": 5,
     "metadata": {},
     "output_type": "execute_result"
    }
   ],
   "source": [
    "df = pd.DataFrame(columns=columns, data=conversion_list)\n",
    "df['date'] = pd.to_datetime(df['date'])\n",
    "df['payout'] = pd.to_numeric(df['payout'])\n",
    "df['clicks'] = df['clicks'].astype('int')\n",
    "df['EPC'] = (df['payout'] / df['clicks']).round(2)\n",
    "df['week'] = df['date'].dt.week\n",
    "df.head()\n"
   ],
   "metadata": {
    "collapsed": false,
    "pycharm": {
     "name": "#%%\n"
    }
   }
  },
  {
   "cell_type": "code",
   "execution_count": 5,
   "outputs": [],
   "source": [],
   "metadata": {
    "collapsed": false,
    "pycharm": {
     "name": "#%%\n"
    }
   }
  }
 ],
 "metadata": {
  "kernelspec": {
   "display_name": "Python 3",
   "language": "python",
   "name": "python3"
  },
  "language_info": {
   "codemirror_mode": {
    "name": "ipython",
    "version": 2
   },
   "file_extension": ".py",
   "mimetype": "text/x-python",
   "name": "python",
   "nbconvert_exporter": "python",
   "pygments_lexer": "ipython2",
   "version": "2.7.6"
  }
 },
 "nbformat": 4,
 "nbformat_minor": 0
}