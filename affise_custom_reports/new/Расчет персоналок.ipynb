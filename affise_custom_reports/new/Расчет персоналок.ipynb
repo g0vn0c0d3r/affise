{
 "cells": [
  {
   "cell_type": "code",
   "execution_count": 5,
   "id": "50804b63",
   "metadata": {},
   "outputs": [],
   "source": [
    "import pandas as pd"
   ]
  },
  {
   "cell_type": "code",
   "execution_count": 6,
   "id": "82fc9f4e",
   "metadata": {
    "pycharm": {
     "name": "#%%\n"
    }
   },
   "outputs": [],
   "source": [
    "lime_data = pd.read_csv('LIME2021.csv')"
   ]
  },
  {
   "cell_type": "code",
   "execution_count": 12,
   "outputs": [],
   "source": [
    "topWeb = lime_data.query('loan_category == \"new\"')\n",
    "topWeb = topWeb.groupby(by=['partner', 'sub3']).agg({'goal': 'count'}).reset_index()\n",
    "topWeb.rename(columns={'sub3': 'web', 'goal': 'conv'}, inplace=True)\n",
    "topWeb = topWeb.sort_values(by='conv', ascending=False)\n",
    "topWeb = topWeb.query('conv > 19')"
   ],
   "metadata": {
    "collapsed": false,
    "pycharm": {
     "name": "#%%\n"
    }
   }
  },
  {
   "cell_type": "code",
   "execution_count": 13,
   "outputs": [
    {
     "data": {
      "text/plain": "         partner     web  conv\n18   CLICK2MONEY     174  1275\n122        LEADS  126905   328\n23   CLICK2MONEY      55   167\n17   CLICK2MONEY      15   144\n199    LEADSTECH      13   113\n6          BANKI   AFFID   107\n41          GURU    1529    67\n88       LEADGID   31445    62\n86       LEADGID   28789    58\n58          GURU    3614    57\n63          GURU     666    53\n52          GURU    2764    50\n189        LEADS   47493    49\n152        LEADS  149714    47\n208    LEADSTECH       8    45\n8        CITYADS    4QCp    45\n138        LEADS  140237    42\n14   CLICK2MONEY    1160    41\n21   CLICK2MONEY    3604    41\n126        LEADS  129922    41\n200    LEADSTECH      15    41\n93       LEADGID   34349    40\n39          GURU    1430    37\n54          GURU    3091    37\n49          GURU    2149    33\n42          GURU      16    33\n84       LEADGID   25473    33\n65          GURU    9063    31\n16   CLICK2MONEY     126    30\n203    LEADSTECH      40    28\n195        LEADS   53258    24\n158        LEADS  154244    23\n77       LEADGID   19934    22",
      "text/html": "<div>\n<style scoped>\n    .dataframe tbody tr th:only-of-type {\n        vertical-align: middle;\n    }\n\n    .dataframe tbody tr th {\n        vertical-align: top;\n    }\n\n    .dataframe thead th {\n        text-align: right;\n    }\n</style>\n<table border=\"1\" class=\"dataframe\">\n  <thead>\n    <tr style=\"text-align: right;\">\n      <th></th>\n      <th>partner</th>\n      <th>web</th>\n      <th>conv</th>\n    </tr>\n  </thead>\n  <tbody>\n    <tr>\n      <th>18</th>\n      <td>CLICK2MONEY</td>\n      <td>174</td>\n      <td>1275</td>\n    </tr>\n    <tr>\n      <th>122</th>\n      <td>LEADS</td>\n      <td>126905</td>\n      <td>328</td>\n    </tr>\n    <tr>\n      <th>23</th>\n      <td>CLICK2MONEY</td>\n      <td>55</td>\n      <td>167</td>\n    </tr>\n    <tr>\n      <th>17</th>\n      <td>CLICK2MONEY</td>\n      <td>15</td>\n      <td>144</td>\n    </tr>\n    <tr>\n      <th>199</th>\n      <td>LEADSTECH</td>\n      <td>13</td>\n      <td>113</td>\n    </tr>\n    <tr>\n      <th>6</th>\n      <td>BANKI</td>\n      <td>AFFID</td>\n      <td>107</td>\n    </tr>\n    <tr>\n      <th>41</th>\n      <td>GURU</td>\n      <td>1529</td>\n      <td>67</td>\n    </tr>\n    <tr>\n      <th>88</th>\n      <td>LEADGID</td>\n      <td>31445</td>\n      <td>62</td>\n    </tr>\n    <tr>\n      <th>86</th>\n      <td>LEADGID</td>\n      <td>28789</td>\n      <td>58</td>\n    </tr>\n    <tr>\n      <th>58</th>\n      <td>GURU</td>\n      <td>3614</td>\n      <td>57</td>\n    </tr>\n    <tr>\n      <th>63</th>\n      <td>GURU</td>\n      <td>666</td>\n      <td>53</td>\n    </tr>\n    <tr>\n      <th>52</th>\n      <td>GURU</td>\n      <td>2764</td>\n      <td>50</td>\n    </tr>\n    <tr>\n      <th>189</th>\n      <td>LEADS</td>\n      <td>47493</td>\n      <td>49</td>\n    </tr>\n    <tr>\n      <th>152</th>\n      <td>LEADS</td>\n      <td>149714</td>\n      <td>47</td>\n    </tr>\n    <tr>\n      <th>208</th>\n      <td>LEADSTECH</td>\n      <td>8</td>\n      <td>45</td>\n    </tr>\n    <tr>\n      <th>8</th>\n      <td>CITYADS</td>\n      <td>4QCp</td>\n      <td>45</td>\n    </tr>\n    <tr>\n      <th>138</th>\n      <td>LEADS</td>\n      <td>140237</td>\n      <td>42</td>\n    </tr>\n    <tr>\n      <th>14</th>\n      <td>CLICK2MONEY</td>\n      <td>1160</td>\n      <td>41</td>\n    </tr>\n    <tr>\n      <th>21</th>\n      <td>CLICK2MONEY</td>\n      <td>3604</td>\n      <td>41</td>\n    </tr>\n    <tr>\n      <th>126</th>\n      <td>LEADS</td>\n      <td>129922</td>\n      <td>41</td>\n    </tr>\n    <tr>\n      <th>200</th>\n      <td>LEADSTECH</td>\n      <td>15</td>\n      <td>41</td>\n    </tr>\n    <tr>\n      <th>93</th>\n      <td>LEADGID</td>\n      <td>34349</td>\n      <td>40</td>\n    </tr>\n    <tr>\n      <th>39</th>\n      <td>GURU</td>\n      <td>1430</td>\n      <td>37</td>\n    </tr>\n    <tr>\n      <th>54</th>\n      <td>GURU</td>\n      <td>3091</td>\n      <td>37</td>\n    </tr>\n    <tr>\n      <th>49</th>\n      <td>GURU</td>\n      <td>2149</td>\n      <td>33</td>\n    </tr>\n    <tr>\n      <th>42</th>\n      <td>GURU</td>\n      <td>16</td>\n      <td>33</td>\n    </tr>\n    <tr>\n      <th>84</th>\n      <td>LEADGID</td>\n      <td>25473</td>\n      <td>33</td>\n    </tr>\n    <tr>\n      <th>65</th>\n      <td>GURU</td>\n      <td>9063</td>\n      <td>31</td>\n    </tr>\n    <tr>\n      <th>16</th>\n      <td>CLICK2MONEY</td>\n      <td>126</td>\n      <td>30</td>\n    </tr>\n    <tr>\n      <th>203</th>\n      <td>LEADSTECH</td>\n      <td>40</td>\n      <td>28</td>\n    </tr>\n    <tr>\n      <th>195</th>\n      <td>LEADS</td>\n      <td>53258</td>\n      <td>24</td>\n    </tr>\n    <tr>\n      <th>158</th>\n      <td>LEADS</td>\n      <td>154244</td>\n      <td>23</td>\n    </tr>\n    <tr>\n      <th>77</th>\n      <td>LEADGID</td>\n      <td>19934</td>\n      <td>22</td>\n    </tr>\n  </tbody>\n</table>\n</div>"
     },
     "execution_count": 13,
     "metadata": {},
     "output_type": "execute_result"
    }
   ],
   "source": [
    "topWeb"
   ],
   "metadata": {
    "collapsed": false,
    "pycharm": {
     "name": "#%%\n"
    }
   }
  },
  {
   "cell_type": "code",
   "execution_count": null,
   "outputs": [],
   "source": [],
   "metadata": {
    "collapsed": false,
    "pycharm": {
     "name": "#%%\n"
    }
   }
  }
 ],
 "metadata": {
  "kernelspec": {
   "display_name": "Python 3 (ipykernel)",
   "language": "python",
   "name": "python3"
  },
  "language_info": {
   "codemirror_mode": {
    "name": "ipython",
    "version": 3
   },
   "file_extension": ".py",
   "mimetype": "text/x-python",
   "name": "python",
   "nbconvert_exporter": "python",
   "pygments_lexer": "ipython3",
   "version": "3.9.9"
  }
 },
 "nbformat": 4,
 "nbformat_minor": 5
}